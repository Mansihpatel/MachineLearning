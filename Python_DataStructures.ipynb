{
 "cells": [
  {
   "cell_type": "markdown",
   "metadata": {
    "ExecuteTime": {
     "end_time": "2021-05-14T09:34:49.342394Z",
     "start_time": "2021-05-14T09:34:49.326394Z"
    }
   },
   "source": [
    "#                                               Python\n",
    "\n",
    "### This file has different python data structures and their operations\n",
    "\n",
    "\n"
   ]
  },
  {
   "cell_type": "markdown",
   "metadata": {},
   "source": [
    "### Keywords\n",
    " \n",
    " Keywords are the reserved words in Python and can't be used as an identifier\n",
    "\n"
   ]
  },
  {
   "cell_type": "code",
   "execution_count": 3,
   "metadata": {
    "ExecuteTime": {
     "end_time": "2021-05-14T09:40:11.181881Z",
     "start_time": "2021-05-14T09:40:11.176481Z"
    }
   },
   "outputs": [],
   "source": [
    "import keyword\n"
   ]
  },
  {
   "cell_type": "code",
   "execution_count": 4,
   "metadata": {
    "ExecuteTime": {
     "end_time": "2021-05-14T09:40:13.763927Z",
     "start_time": "2021-05-14T09:40:13.748118Z"
    }
   },
   "outputs": [
    {
     "name": "stdout",
     "output_type": "stream",
     "text": [
      "['False', 'None', 'True', 'and', 'as', 'assert', 'async', 'await', 'break', 'class', 'continue', 'def', 'del', 'elif', 'else', 'except', 'finally', 'for', 'from', 'global', 'if', 'import', 'in', 'is', 'lambda', 'nonlocal', 'not', 'or', 'pass', 'raise', 'return', 'try', 'while', 'with', 'yield']\n"
     ]
    }
   ],
   "source": [
    "print(keyword.kwlist) # List all Python Keywords\n"
   ]
  },
  {
   "cell_type": "code",
   "execution_count": 5,
   "metadata": {
    "ExecuteTime": {
     "end_time": "2021-05-14T09:47:50.854935Z",
     "start_time": "2021-05-14T09:47:50.821597Z"
    }
   },
   "outputs": [
    {
     "data": {
      "text/plain": [
       "35"
      ]
     },
     "execution_count": 5,
     "metadata": {},
     "output_type": "execute_result"
    }
   ],
   "source": [
    "len(keyword.kwlist) # Python contains 35 keywords\n"
   ]
  },
  {
   "cell_type": "markdown",
   "metadata": {},
   "source": [
    "## strings"
   ]
  },
  {
   "cell_type": "code",
   "execution_count": 8,
   "metadata": {
    "ExecuteTime": {
     "end_time": "2021-05-14T13:11:21.013562Z",
     "start_time": "2021-05-14T13:11:21.004566Z"
    }
   },
   "outputs": [
    {
     "name": "stdout",
     "output_type": "stream",
     "text": [
      "hello Python\n"
     ]
    }
   ],
   "source": [
    "str1 = 'hello Python'\n",
    "print(str1)\n"
   ]
  },
  {
   "cell_type": "code",
   "execution_count": 7,
   "metadata": {
    "ExecuteTime": {
     "end_time": "2021-05-14T13:11:02.647883Z",
     "start_time": "2021-05-14T13:11:02.639477Z"
    }
   },
   "outputs": [
    {
     "name": "stdout",
     "output_type": "stream",
     "text": [
      "Hello World\n"
     ]
    }
   ],
   "source": [
    "mystr = 'Hello World' # Define string using single quotes\n",
    "print(mystr)"
   ]
  },
  {
   "cell_type": "code",
   "execution_count": 11,
   "metadata": {
    "ExecuteTime": {
     "end_time": "2021-05-14T13:11:55.467767Z",
     "start_time": "2021-05-14T13:11:55.461098Z"
    }
   },
   "outputs": [
    {
     "name": "stdout",
     "output_type": "stream",
     "text": [
      "Hello World\n"
     ]
    }
   ],
   "source": [
    "mystr = \"Hello World\" # Define string using double quotes\n",
    "print(mystr)"
   ]
  },
  {
   "cell_type": "code",
   "execution_count": 13,
   "metadata": {
    "ExecuteTime": {
     "end_time": "2021-05-14T13:12:13.195700Z",
     "start_time": "2021-05-14T13:12:13.180717Z"
    }
   },
   "outputs": [
    {
     "name": "stdout",
     "output_type": "stream",
     "text": [
      "Hello \n",
      "        World \n"
     ]
    }
   ],
   "source": [
    "mystr = '''Hello \n",
    "        World '''   # Define string using triple quotes\n",
    "print(mystr)"
   ]
  },
  {
   "cell_type": "code",
   "execution_count": 15,
   "metadata": {
    "ExecuteTime": {
     "end_time": "2021-05-14T13:12:33.393670Z",
     "start_time": "2021-05-14T13:12:33.379229Z"
    }
   },
   "outputs": [
    {
     "name": "stdout",
     "output_type": "stream",
     "text": [
      "Happy Monday Everyone\n"
     ]
    }
   ],
   "source": [
    "mystr = ('Happy '\n",
    "         'Monday '\n",
    "         'Everyone')\n",
    "print(mystr)"
   ]
  },
  {
   "cell_type": "code",
   "execution_count": 18,
   "metadata": {
    "ExecuteTime": {
     "end_time": "2021-05-14T13:13:10.065095Z",
     "start_time": "2021-05-14T13:13:10.057178Z"
    }
   },
   "outputs": [
    {
     "data": {
      "text/plain": [
       "'Woohoo Woohoo Woohoo '"
      ]
     },
     "execution_count": 18,
     "metadata": {},
     "output_type": "execute_result"
    }
   ],
   "source": [
    "mystr2 = 'Woohoo '\n",
    "mystr2 = mystr2*3 \n",
    "mystr2"
   ]
  },
  {
   "cell_type": "code",
   "execution_count": 19,
   "metadata": {
    "ExecuteTime": {
     "end_time": "2021-05-14T13:13:10.900172Z",
     "start_time": "2021-05-14T13:13:10.879482Z"
    }
   },
   "outputs": [
    {
     "data": {
      "text/plain": [
       "21"
      ]
     },
     "execution_count": 19,
     "metadata": {},
     "output_type": "execute_result"
    }
   ],
   "source": [
    "len(mystr2) # Length of string\n"
   ]
  },
  {
   "cell_type": "markdown",
   "metadata": {},
   "source": [
    "String Indexing¶\n"
   ]
  },
  {
   "attachments": {
    "forwardIndex.png": {
     "image/png": "[encoded data removed]"
    }
   },
   "cell_type": "markdown",
   "metadata": {},
   "source": [
    "![forwardIndex.png](attachment:forwardIndex.png)"
   ]
  },
  {
   "cell_type": "code",
   "execution_count": 26,
   "metadata": {
    "ExecuteTime": {
     "end_time": "2021-05-14T13:43:17.503336Z",
     "start_time": "2021-05-14T13:43:17.491544Z"
    }
   },
   "outputs": [
    {
     "data": {
      "text/plain": [
       "'hello Python'"
      ]
     },
     "execution_count": 26,
     "metadata": {},
     "output_type": "execute_result"
    }
   ],
   "source": [
    "str1"
   ]
  },
  {
   "cell_type": "code",
   "execution_count": 25,
   "metadata": {
    "ExecuteTime": {
     "end_time": "2021-05-14T13:43:14.053336Z",
     "start_time": "2021-05-14T13:43:14.041005Z"
    }
   },
   "outputs": [
    {
     "data": {
      "text/plain": [
       "'h'"
      ]
     },
     "execution_count": 25,
     "metadata": {},
     "output_type": "execute_result"
    }
   ],
   "source": [
    "str1[0]# First character in string \"str1\""
   ]
  },
  {
   "cell_type": "code",
   "execution_count": 27,
   "metadata": {
    "ExecuteTime": {
     "end_time": "2021-05-14T13:43:44.780297Z",
     "start_time": "2021-05-14T13:43:44.755982Z"
    }
   },
   "outputs": [
    {
     "data": {
      "text/plain": [
       "'n'"
      ]
     },
     "execution_count": 27,
     "metadata": {},
     "output_type": "execute_result"
    }
   ],
   "source": [
    "str1[-1] # last character using reverse indexing"
   ]
  },
  {
   "cell_type": "code",
   "execution_count": 31,
   "metadata": {
    "ExecuteTime": {
     "end_time": "2021-05-14T13:44:49.895019Z",
     "start_time": "2021-05-14T13:44:49.886473Z"
    }
   },
   "outputs": [
    {
     "data": {
      "text/plain": [
       "'n'"
      ]
     },
     "execution_count": 31,
     "metadata": {},
     "output_type": "execute_result"
    }
   ],
   "source": [
    "str1[len(str1)-1] # Last character in string using len function"
   ]
  },
  {
   "cell_type": "code",
   "execution_count": 32,
   "metadata": {
    "ExecuteTime": {
     "end_time": "2021-05-14T13:45:15.568792Z",
     "start_time": "2021-05-14T13:45:15.554882Z"
    }
   },
   "outputs": [
    {
     "data": {
      "text/plain": [
       "'P'"
      ]
     },
     "execution_count": 32,
     "metadata": {},
     "output_type": "execute_result"
    }
   ],
   "source": [
    "str1[6] #Fetch 7th element of the string"
   ]
  },
  {
   "cell_type": "code",
   "execution_count": 33,
   "metadata": {
    "ExecuteTime": {
     "end_time": "2021-05-14T13:45:24.095184Z",
     "start_time": "2021-05-14T13:45:24.087435Z"
    }
   },
   "outputs": [
    {
     "data": {
      "text/plain": [
       "' '"
      ]
     },
     "execution_count": 33,
     "metadata": {},
     "output_type": "execute_result"
    }
   ],
   "source": [
    "str1[5]\n"
   ]
  },
  {
   "cell_type": "markdown",
   "metadata": {},
   "source": [
    "String Slicing¶\n"
   ]
  },
  {
   "cell_type": "code",
   "execution_count": 34,
   "metadata": {
    "ExecuteTime": {
     "end_time": "2021-05-14T13:45:51.392732Z",
     "start_time": "2021-05-14T13:45:51.382950Z"
    }
   },
   "outputs": [
    {
     "data": {
      "text/plain": [
       "'hello'"
      ]
     },
     "execution_count": 34,
     "metadata": {},
     "output_type": "execute_result"
    }
   ],
   "source": [
    "str1[0:5] # String slicing - Fetch all characters from 0 to 5 index location excluding the character at loc 5.\n"
   ]
  },
  {
   "cell_type": "code",
   "execution_count": 35,
   "metadata": {
    "ExecuteTime": {
     "end_time": "2021-05-14T13:46:10.010847Z",
     "start_time": "2021-05-14T13:46:09.998960Z"
    }
   },
   "outputs": [
    {
     "data": {
      "text/plain": [
       "'Python'"
      ]
     },
     "execution_count": 35,
     "metadata": {},
     "output_type": "execute_result"
    }
   ],
   "source": [
    "str1[6:12] # String slicing - Retreive all characters between 6 - 12 index loc excluding index loc 12.\n"
   ]
  },
  {
   "cell_type": "code",
   "execution_count": 36,
   "metadata": {
    "ExecuteTime": {
     "end_time": "2021-05-14T13:46:16.317526Z",
     "start_time": "2021-05-14T13:46:16.294086Z"
    }
   },
   "outputs": [
    {
     "data": {
      "text/plain": [
       "'thon'"
      ]
     },
     "execution_count": 36,
     "metadata": {},
     "output_type": "execute_result"
    }
   ],
   "source": [
    "str1[-4:] #Retreive last four characters of the string\n"
   ]
  },
  {
   "cell_type": "code",
   "execution_count": 37,
   "metadata": {
    "ExecuteTime": {
     "end_time": "2021-05-14T13:47:34.269344Z",
     "start_time": "2021-05-14T13:47:34.252883Z"
    }
   },
   "outputs": [
    {
     "data": {
      "text/plain": [
       "'Python'"
      ]
     },
     "execution_count": 37,
     "metadata": {},
     "output_type": "execute_result"
    }
   ],
   "source": [
    "str1[-6:] #Retreive last six characters of the string"
   ]
  },
  {
   "cell_type": "code",
   "execution_count": 38,
   "metadata": {
    "ExecuteTime": {
     "end_time": "2021-05-14T13:47:42.534581Z",
     "start_time": "2021-05-14T13:47:42.514459Z"
    }
   },
   "outputs": [
    {
     "data": {
      "text/plain": [
       "'hell'"
      ]
     },
     "execution_count": 38,
     "metadata": {},
     "output_type": "execute_result"
    }
   ],
   "source": [
    "str1[:4] # Retreive first four characters of the string\n"
   ]
  },
  {
   "cell_type": "code",
   "execution_count": 39,
   "metadata": {
    "ExecuteTime": {
     "end_time": "2021-05-14T14:01:39.829588Z",
     "start_time": "2021-05-14T14:01:39.808641Z"
    }
   },
   "outputs": [
    {
     "data": {
      "text/plain": [
       "'hello '"
      ]
     },
     "execution_count": 39,
     "metadata": {},
     "output_type": "execute_result"
    }
   ],
   "source": [
    "str1[:6] # Retreive first six characters of the string\n"
   ]
  },
  {
   "cell_type": "markdown",
   "metadata": {},
   "source": [
    "#### Update & Delete String¶\n"
   ]
  },
  {
   "cell_type": "code",
   "execution_count": 40,
   "metadata": {
    "ExecuteTime": {
     "end_time": "2021-05-14T14:02:17.607660Z",
     "start_time": "2021-05-14T14:02:17.597686Z"
    }
   },
   "outputs": [
    {
     "data": {
      "text/plain": [
       "'hello Python'"
      ]
     },
     "execution_count": 40,
     "metadata": {},
     "output_type": "execute_result"
    }
   ],
   "source": [
    "str1"
   ]
  },
  {
   "cell_type": "code",
   "execution_count": 41,
   "metadata": {
    "ExecuteTime": {
     "end_time": "2021-05-14T14:03:16.138504Z",
     "start_time": "2021-05-14T14:03:16.123549Z"
    }
   },
   "outputs": [
    {
     "ename": "TypeError",
     "evalue": "'str' object does not support item assignment",
     "output_type": "error",
     "traceback": [
      "\u001b[1;31m---------------------------------------------------------------------------\u001b[0m",
      "\u001b[1;31mTypeError\u001b[0m                                 Traceback (most recent call last)",
      "\u001b[1;32m<ipython-input-41-5797fff88f23>\u001b[0m in \u001b[0;36m<module>\u001b[1;34m\u001b[0m\n\u001b[0;32m      1\u001b[0m \u001b[1;31m#Strings are immutable which means elements of a string cannot be changed once they have been assigned.\u001b[0m\u001b[1;33m\u001b[0m\u001b[1;33m\u001b[0m\u001b[1;33m\u001b[0m\u001b[0m\n\u001b[1;32m----> 2\u001b[1;33m \u001b[0mstr1\u001b[0m\u001b[1;33m[\u001b[0m\u001b[1;36m0\u001b[0m\u001b[1;33m:\u001b[0m\u001b[1;36m5\u001b[0m\u001b[1;33m]\u001b[0m \u001b[1;33m=\u001b[0m \u001b[1;34m'HOLAA'\u001b[0m\u001b[1;33m\u001b[0m\u001b[1;33m\u001b[0m\u001b[0m\n\u001b[0m",
      "\u001b[1;31mTypeError\u001b[0m: 'str' object does not support item assignment"
     ]
    }
   ],
   "source": [
    "#Strings are immutable which means elements of a string cannot be changed once they have been assigned.\n",
    "str1[0:5] = 'HOLAA'"
   ]
  },
  {
   "cell_type": "code",
   "execution_count": 42,
   "metadata": {
    "ExecuteTime": {
     "end_time": "2021-05-14T14:03:28.761450Z",
     "start_time": "2021-05-14T14:03:28.739527Z"
    }
   },
   "outputs": [
    {
     "ename": "NameError",
     "evalue": "name 'srt1' is not defined",
     "output_type": "error",
     "traceback": [
      "\u001b[1;31m---------------------------------------------------------------------------\u001b[0m",
      "\u001b[1;31mNameError\u001b[0m                                 Traceback (most recent call last)",
      "\u001b[1;32m<ipython-input-42-7fcc0cc83dcc>\u001b[0m in \u001b[0;36m<module>\u001b[1;34m\u001b[0m\n\u001b[0;32m      1\u001b[0m \u001b[1;32mdel\u001b[0m \u001b[0mstr1\u001b[0m \u001b[1;31m# Delete a string\u001b[0m\u001b[1;33m\u001b[0m\u001b[1;33m\u001b[0m\u001b[0m\n\u001b[1;32m----> 2\u001b[1;33m \u001b[0mprint\u001b[0m\u001b[1;33m(\u001b[0m\u001b[0msrt1\u001b[0m\u001b[1;33m)\u001b[0m\u001b[1;33m\u001b[0m\u001b[1;33m\u001b[0m\u001b[0m\n\u001b[0m",
      "\u001b[1;31mNameError\u001b[0m: name 'srt1' is not defined"
     ]
    }
   ],
   "source": [
    "del str1 # Delete a string\n",
    "print(srt1)"
   ]
  },
  {
   "cell_type": "markdown",
   "metadata": {
    "ExecuteTime": {
     "end_time": "2021-05-14T14:03:44.001258Z",
     "start_time": "2021-05-14T14:03:43.976327Z"
    }
   },
   "source": [
    "String concatenation¶\n"
   ]
  },
  {
   "cell_type": "code",
   "execution_count": 46,
   "metadata": {
    "ExecuteTime": {
     "end_time": "2021-05-14T14:05:53.455166Z",
     "start_time": "2021-05-14T14:05:53.447186Z"
    }
   },
   "outputs": [
    {
     "name": "stdout",
     "output_type": "stream",
     "text": [
      "HelloMansi\n"
     ]
    }
   ],
   "source": [
    "# String concatenation\n",
    "s1 = \"Hello\"\n",
    "s2 = \"Mansi\"\n",
    "s3 = s1 + s2\n",
    "print(s3)"
   ]
  },
  {
   "cell_type": "code",
   "execution_count": 50,
   "metadata": {
    "ExecuteTime": {
     "end_time": "2021-05-14T14:12:33.592202Z",
     "start_time": "2021-05-14T14:12:33.574250Z"
    }
   },
   "outputs": [
    {
     "name": "stdout",
     "output_type": "stream",
     "text": [
      "Hello Mansi\n"
     ]
    }
   ],
   "source": [
    "# String concatenation\n",
    "s1 = \"Hello\"\n",
    "s2 = \"Mansi\"\n",
    "s3 = s1 +\" \"+s2\n",
    "print(s3)"
   ]
  },
  {
   "cell_type": "markdown",
   "metadata": {},
   "source": [
    "Iterating through a String¶\n"
   ]
  },
  {
   "cell_type": "code",
   "execution_count": 51,
   "metadata": {
    "ExecuteTime": {
     "end_time": "2021-05-14T14:12:53.647806Z",
     "start_time": "2021-05-14T14:12:53.642802Z"
    }
   },
   "outputs": [],
   "source": [
    "mystr = \"hello everyone\""
   ]
  },
  {
   "cell_type": "code",
   "execution_count": 53,
   "metadata": {
    "ExecuteTime": {
     "end_time": "2021-05-14T14:13:24.354281Z",
     "start_time": "2021-05-14T14:13:24.340319Z"
    }
   },
   "outputs": [
    {
     "name": "stdout",
     "output_type": "stream",
     "text": [
      "hello everyone\n",
      "hello everyone\n",
      "hello everyone\n",
      "hello everyone\n",
      "hello everyone\n",
      "hello everyone\n",
      "hello everyone\n",
      "hello everyone\n",
      "hello everyone\n",
      "hello everyone\n",
      "hello everyone\n",
      "hello everyone\n",
      "hello everyone\n",
      "hello everyone\n"
     ]
    }
   ],
   "source": [
    "#iteration\n",
    "for i in mystr:\n",
    "    print(mystr)"
   ]
  },
  {
   "cell_type": "code",
   "execution_count": 56,
   "metadata": {
    "ExecuteTime": {
     "end_time": "2021-05-14T14:16:39.225779Z",
     "start_time": "2021-05-14T14:16:39.207829Z"
    }
   },
   "outputs": [
    {
     "name": "stdout",
     "output_type": "stream",
     "text": [
      "(0, 'h')\n",
      "(1, 'e')\n",
      "(2, 'l')\n",
      "(3, 'l')\n",
      "(4, 'o')\n",
      "(5, ' ')\n",
      "(6, 'e')\n",
      "(7, 'v')\n",
      "(8, 'e')\n",
      "(9, 'r')\n",
      "(10, 'y')\n",
      "(11, 'o')\n",
      "(12, 'n')\n",
      "(13, 'e')\n"
     ]
    }
   ],
   "source": [
    "for i in enumerate(mystr):\n",
    "    print(i)"
   ]
  },
  {
   "cell_type": "code",
   "execution_count": 59,
   "metadata": {
    "ExecuteTime": {
     "end_time": "2021-05-14T14:19:28.476829Z",
     "start_time": "2021-05-14T14:19:28.453910Z"
    }
   },
   "outputs": [
    {
     "data": {
      "text/plain": [
       "[(0, 'h'),\n",
       " (1, 'e'),\n",
       " (2, 'l'),\n",
       " (3, 'l'),\n",
       " (4, 'o'),\n",
       " (5, ' '),\n",
       " (6, 'e'),\n",
       " (7, 'v'),\n",
       " (8, 'e'),\n",
       " (9, 'r'),\n",
       " (10, 'y'),\n",
       " (11, 'o'),\n",
       " (12, 'n'),\n",
       " (13, 'e')]"
      ]
     },
     "execution_count": 59,
     "metadata": {},
     "output_type": "execute_result"
    }
   ],
   "source": [
    "list(enumerate(mystr))# Enumerate method adds a counter to an iterable and returns it in a form of enumerate object."
   ]
  },
  {
   "cell_type": "markdown",
   "metadata": {},
   "source": [
    "String Membership¶\n"
   ]
  },
  {
   "cell_type": "code",
   "execution_count": 60,
   "metadata": {
    "ExecuteTime": {
     "end_time": "2021-05-14T14:22:42.985839Z",
     "start_time": "2021-05-14T14:22:42.973870Z"
    }
   },
   "outputs": [
    {
     "name": "stdout",
     "output_type": "stream",
     "text": [
      "True\n",
      "False\n",
      "True\n"
     ]
    }
   ],
   "source": [
    "# string membership\n",
    "mystr = \"hello everyone\"\n",
    "print(\"hello\" in mystr) # Check whether substring \"hello\" is present in string \"mysrt1\"\n",
    "print(\"Hi\" in mystr) # Check whether substring \"Hi\" is present in string \"mysrt1\"\n",
    "print(\"everyone\" in mystr) # Check whether substring \"everyone\" is present in string \"mysrt1\"\n"
   ]
  },
  {
   "cell_type": "markdown",
   "metadata": {},
   "source": [
    "String Partitioning¶\n"
   ]
  },
  {
   "cell_type": "code",
   "execution_count": 61,
   "metadata": {
    "ExecuteTime": {
     "end_time": "2021-05-14T14:25:11.975199Z",
     "start_time": "2021-05-14T14:25:11.954258Z"
    }
   },
   "outputs": [
    {
     "data": {
      "text/plain": [
       "('machine learning with Python ', 'and', ' R and Java')"
      ]
     },
     "execution_count": 61,
     "metadata": {},
     "output_type": "execute_result"
    }
   ],
   "source": [
    "#partition()\n",
    "\n",
    "\"\"\"\n",
    "The partition() method searches for a specified string and splits the string into a tuple containing three elements.\n",
    "\n",
    " - The first element contains the part before the argument string.\n",
    "\n",
    " - The second element contains the argument string.\n",
    "\n",
    " - The third element contains the part after the argument string.\n",
    "\"\"\"\n",
    "str5 = \"machine learning with Python and R and Java\"\n",
    "l = str5.partition(\"and\")\n",
    "l"
   ]
  },
  {
   "cell_type": "code",
   "execution_count": 65,
   "metadata": {
    "ExecuteTime": {
     "end_time": "2021-05-14T14:26:06.299430Z",
     "start_time": "2021-05-14T14:26:06.283476Z"
    }
   },
   "outputs": [
    {
     "name": "stdout",
     "output_type": "stream",
     "text": [
      "('Natural language processing with Python and R ', 'and', ' Java')\n"
     ]
    }
   ],
   "source": [
    "#rpartition()\n",
    "\n",
    "\"\"\"\n",
    "The rpartition() method searches for the last occurence of the specified string and splits the string into a tuple \n",
    "containing three elements.\n",
    "\n",
    " - The first element contains the part before the argument string.\n",
    "\n",
    " - The second element contains the argument string.\n",
    "\n",
    " - The third element contains the part after the argument string.\n",
    "\"\"\"\n",
    "\n",
    "str5 = \"Natural language processing with Python and R and Java\"\n",
    "L = str5.rpartition(\"and\") \n",
    "print(L)"
   ]
  },
  {
   "cell_type": "markdown",
   "metadata": {},
   "source": [
    "String Functions¶\n"
   ]
  },
  {
   "cell_type": "code",
   "execution_count": 66,
   "metadata": {
    "ExecuteTime": {
     "end_time": "2021-05-14T14:27:50.403549Z",
     "start_time": "2021-05-14T14:27:50.384601Z"
    }
   },
   "outputs": [
    {
     "data": {
      "text/plain": [
       "'   hello everyone   '"
      ]
     },
     "execution_count": 66,
     "metadata": {},
     "output_type": "execute_result"
    }
   ],
   "source": [
    "mystr2 = \"   hello everyone   \"\n",
    "mystr2"
   ]
  },
  {
   "cell_type": "code",
   "execution_count": 67,
   "metadata": {
    "ExecuteTime": {
     "end_time": "2021-05-14T14:30:36.985940Z",
     "start_time": "2021-05-14T14:30:36.969985Z"
    }
   },
   "outputs": [
    {
     "data": {
      "text/plain": [
       "'hello everyone'"
      ]
     },
     "execution_count": 67,
     "metadata": {},
     "output_type": "execute_result"
    }
   ],
   "source": [
    "mystr2.strip()# Removes white space from begining & end"
   ]
  },
  {
   "cell_type": "code",
   "execution_count": 68,
   "metadata": {
    "ExecuteTime": {
     "end_time": "2021-05-14T14:30:48.627665Z",
     "start_time": "2021-05-14T14:30:48.611691Z"
    }
   },
   "outputs": [
    {
     "data": {
      "text/plain": [
       "'hello everyone   '"
      ]
     },
     "execution_count": 68,
     "metadata": {},
     "output_type": "execute_result"
    }
   ],
   "source": [
    "mystr2.lstrip()# Removes all whitespaces at the begining of the string"
   ]
  },
  {
   "cell_type": "code",
   "execution_count": 69,
   "metadata": {
    "ExecuteTime": {
     "end_time": "2021-05-14T14:31:06.801778Z",
     "start_time": "2021-05-14T14:31:06.780838Z"
    }
   },
   "outputs": [
    {
     "data": {
      "text/plain": [
       "'   hello everyone'"
      ]
     },
     "execution_count": 69,
     "metadata": {},
     "output_type": "execute_result"
    }
   ],
   "source": [
    "mystr2.rstrip()# Removes all whitespaces at the end of the string"
   ]
  },
  {
   "cell_type": "code",
   "execution_count": 72,
   "metadata": {
    "ExecuteTime": {
     "end_time": "2021-05-14T14:32:15.717171Z",
     "start_time": "2021-05-14T14:32:15.708194Z"
    }
   },
   "outputs": [
    {
     "data": {
      "text/plain": [
       "'*********Hello Everyone***********All the Best**********'"
      ]
     },
     "execution_count": 72,
     "metadata": {},
     "output_type": "execute_result"
    }
   ],
   "source": [
    "mystr2 = \"*********Hello Everyone***********All the Best**********\"\n",
    "mystr2"
   ]
  },
  {
   "cell_type": "code",
   "execution_count": 73,
   "metadata": {
    "ExecuteTime": {
     "end_time": "2021-05-14T14:32:18.979263Z",
     "start_time": "2021-05-14T14:32:18.974278Z"
    }
   },
   "outputs": [
    {
     "data": {
      "text/plain": [
       "'Hello Everyone***********All the Best'"
      ]
     },
     "execution_count": 73,
     "metadata": {},
     "output_type": "execute_result"
    }
   ],
   "source": [
    "mystr2.strip(\"*\")# Removes all '*' characters from begining & end of the string"
   ]
  },
  {
   "cell_type": "code",
   "execution_count": 76,
   "metadata": {
    "ExecuteTime": {
     "end_time": "2021-05-14T14:35:30.565995Z",
     "start_time": "2021-05-14T14:35:30.546053Z"
    }
   },
   "outputs": [
    {
     "data": {
      "text/plain": [
       "'Hello Everyone***********All the Best**********'"
      ]
     },
     "execution_count": 76,
     "metadata": {},
     "output_type": "execute_result"
    }
   ],
   "source": [
    "mystr2.lstrip(\"*\")# Removes all '*' characters at the begining of the string"
   ]
  },
  {
   "cell_type": "code",
   "execution_count": 79,
   "metadata": {
    "ExecuteTime": {
     "end_time": "2021-05-14T14:35:50.261096Z",
     "start_time": "2021-05-14T14:35:50.254156Z"
    }
   },
   "outputs": [
    {
     "data": {
      "text/plain": [
       "'*********Hello Everyone***********All the Best'"
      ]
     },
     "execution_count": 79,
     "metadata": {},
     "output_type": "execute_result"
    }
   ],
   "source": [
    "mystr2.rstrip(\"*\")# Removes all '*' characters at the end of the string"
   ]
  },
  {
   "cell_type": "code",
   "execution_count": 81,
   "metadata": {
    "ExecuteTime": {
     "end_time": "2021-05-14T14:37:46.246375Z",
     "start_time": "2021-05-14T14:37:46.234411Z"
    }
   },
   "outputs": [
    {
     "data": {
      "text/plain": [
       "'   Hello Everyone  '"
      ]
     },
     "execution_count": 81,
     "metadata": {},
     "output_type": "execute_result"
    }
   ],
   "source": [
    "mystr2 = \"   Hello Everyone  \"\n",
    "mystr2"
   ]
  },
  {
   "cell_type": "code",
   "execution_count": 82,
   "metadata": {
    "ExecuteTime": {
     "end_time": "2021-05-14T14:37:59.073420Z",
     "start_time": "2021-05-14T14:37:59.053477Z"
    }
   },
   "outputs": [
    {
     "data": {
      "text/plain": [
       "'   HELLO EVERYONE  '"
      ]
     },
     "execution_count": 82,
     "metadata": {},
     "output_type": "execute_result"
    }
   ],
   "source": [
    "mystr2.upper() # Return whole string in uppercase"
   ]
  },
  {
   "cell_type": "code",
   "execution_count": 84,
   "metadata": {
    "ExecuteTime": {
     "end_time": "2021-05-14T14:39:22.624290Z",
     "start_time": "2021-05-14T14:39:22.619289Z"
    }
   },
   "outputs": [
    {
     "data": {
      "text/plain": [
       "'   hello everyone  '"
      ]
     },
     "execution_count": 84,
     "metadata": {},
     "output_type": "execute_result"
    }
   ],
   "source": [
    "mystr2.lower() # Return whole string in lowercase"
   ]
  },
  {
   "cell_type": "code",
   "execution_count": 89,
   "metadata": {
    "ExecuteTime": {
     "end_time": "2021-05-14T14:41:52.093800Z",
     "start_time": "2021-05-14T14:41:52.083828Z"
    }
   },
   "outputs": [
    {
     "data": {
      "text/plain": [
       "'   Hollo Everyone  '"
      ]
     },
     "execution_count": 89,
     "metadata": {},
     "output_type": "execute_result"
    }
   ],
   "source": [
    "mystr2.replace(\"He\",\"Ho\")#Replace substring \"He\" with \"Ho\"\n"
   ]
  },
  {
   "cell_type": "code",
   "execution_count": 91,
   "metadata": {
    "ExecuteTime": {
     "end_time": "2021-05-14T14:42:35.756324Z",
     "start_time": "2021-05-14T14:42:35.743361Z"
    }
   },
   "outputs": [
    {
     "data": {
      "text/plain": [
       "'HelloEveryone'"
      ]
     },
     "execution_count": 91,
     "metadata": {},
     "output_type": "execute_result"
    }
   ],
   "source": [
    "mystr2.replace(\" \",\"\")#remove all white spaces using replace"
   ]
  },
  {
   "cell_type": "code",
   "execution_count": 102,
   "metadata": {
    "ExecuteTime": {
     "end_time": "2021-05-14T14:53:41.470485Z",
     "start_time": "2021-05-14T14:53:41.452536Z"
    }
   },
   "outputs": [],
   "source": [
    "mystr5 = \"one 1 two Three one two two three\""
   ]
  },
  {
   "cell_type": "code",
   "execution_count": 104,
   "metadata": {
    "ExecuteTime": {
     "end_time": "2021-05-14T14:54:09.727775Z",
     "start_time": "2021-05-14T14:54:09.713811Z"
    }
   },
   "outputs": [
    {
     "data": {
      "text/plain": [
       "2"
      ]
     },
     "execution_count": 104,
     "metadata": {},
     "output_type": "execute_result"
    }
   ],
   "source": [
    "mystr5.count(\"one\")#number of times substring 'one' occured"
   ]
  },
  {
   "cell_type": "code",
   "execution_count": 105,
   "metadata": {
    "ExecuteTime": {
     "end_time": "2021-05-14T14:54:25.010806Z",
     "start_time": "2021-05-14T14:54:25.005819Z"
    }
   },
   "outputs": [
    {
     "data": {
      "text/plain": [
       "3"
      ]
     },
     "execution_count": 105,
     "metadata": {},
     "output_type": "execute_result"
    }
   ],
   "source": [
    "mystr5.count(\"two\") # Number of times substring \"two\" occurred in string.\n"
   ]
  },
  {
   "cell_type": "code",
   "execution_count": 106,
   "metadata": {
    "ExecuteTime": {
     "end_time": "2021-05-14T14:54:38.091389Z",
     "start_time": "2021-05-14T14:54:38.086395Z"
    }
   },
   "outputs": [
    {
     "data": {
      "text/plain": [
       "True"
      ]
     },
     "execution_count": 106,
     "metadata": {},
     "output_type": "execute_result"
    }
   ],
   "source": [
    "mystr5.startswith(\"one\")# Return boolean value True if string starts with \"one\""
   ]
  },
  {
   "cell_type": "code",
   "execution_count": 107,
   "metadata": {
    "ExecuteTime": {
     "end_time": "2021-05-14T14:54:47.440999Z",
     "start_time": "2021-05-14T14:54:47.424027Z"
    }
   },
   "outputs": [
    {
     "data": {
      "text/plain": [
       "False"
      ]
     },
     "execution_count": 107,
     "metadata": {},
     "output_type": "execute_result"
    }
   ],
   "source": [
    "mystr5.startswith(\"two\")"
   ]
  },
  {
   "cell_type": "code",
   "execution_count": 109,
   "metadata": {
    "ExecuteTime": {
     "end_time": "2021-05-14T14:54:56.691456Z",
     "start_time": "2021-05-14T14:54:56.682482Z"
    }
   },
   "outputs": [
    {
     "data": {
      "text/plain": [
       "False"
      ]
     },
     "execution_count": 109,
     "metadata": {},
     "output_type": "execute_result"
    }
   ],
   "source": [
    "mystr5.endswith(\"one\")"
   ]
  },
  {
   "cell_type": "code",
   "execution_count": 110,
   "metadata": {
    "ExecuteTime": {
     "end_time": "2021-05-14T14:55:17.218064Z",
     "start_time": "2021-05-14T14:55:17.205064Z"
    }
   },
   "outputs": [
    {
     "data": {
      "text/plain": [
       "True"
      ]
     },
     "execution_count": 110,
     "metadata": {},
     "output_type": "execute_result"
    }
   ],
   "source": [
    "mystr5.endswith(\"three\")# Return boolean value True if string ends with \"three\""
   ]
  },
  {
   "cell_type": "code",
   "execution_count": 111,
   "metadata": {
    "ExecuteTime": {
     "end_time": "2021-05-14T14:56:03.132790Z",
     "start_time": "2021-05-14T14:56:03.119825Z"
    }
   },
   "outputs": [
    {
     "data": {
      "text/plain": [
       "'one two three four one two two three five five six seven six seven one one one ten eight ten nine eleven ten ten nine'"
      ]
     },
     "execution_count": 111,
     "metadata": {},
     "output_type": "execute_result"
    }
   ],
   "source": [
    "mystr4 = \"one two three four one two two three five five six seven six seven one one one ten eight ten nine eleven ten ten nine\"\n",
    "mystr4"
   ]
  },
  {
   "cell_type": "code",
   "execution_count": 120,
   "metadata": {
    "ExecuteTime": {
     "end_time": "2021-05-14T15:47:22.458948Z",
     "start_time": "2021-05-14T15:47:22.447978Z"
    }
   },
   "outputs": [
    {
     "name": "stdout",
     "output_type": "stream",
     "text": [
      "one two three four one two two three five five six seven six seven one one one ten eight ten nine eleven ten ten nine\n",
      "['one', 'two', 'three', 'four', 'one', 'two', 'two', 'three', 'five', 'five', 'six', 'seven', 'six', 'seven', 'one', 'one', 'one', 'ten', 'eight', 'ten', 'nine', 'eleven', 'ten', 'ten', 'nine']\n"
     ]
    }
   ],
   "source": [
    "#split\n",
    "\n",
    "mylist = mystr4.split()#split string in to string\n",
    "print(mystr4)\n",
    "print(mylist)"
   ]
  },
  {
   "cell_type": "code",
   "execution_count": 124,
   "metadata": {
    "ExecuteTime": {
     "end_time": "2021-05-14T15:54:17.116458Z",
     "start_time": "2021-05-14T15:54:17.108485Z"
    }
   },
   "outputs": [
    {
     "name": "stdout",
     "output_type": "stream",
     "text": [
      "Cost of item1 , item2 and item3 are 40 , 55 and 77\n"
     ]
    }
   ],
   "source": [
    "# Combining string & numbers using format method\n",
    "item1 = 40\n",
    "item2 = 55\n",
    "item3 = 77\n",
    "\n",
    "res = \"Cost of item1 , item2 and item3 are {} , {} and {}\"\n",
    "\n",
    "print(res.format(item1,item2,item3))"
   ]
  },
  {
   "cell_type": "code",
   "execution_count": 126,
   "metadata": {
    "ExecuteTime": {
     "end_time": "2021-05-14T15:54:35.884705Z",
     "start_time": "2021-05-14T15:54:35.863794Z"
    }
   },
   "outputs": [
    {
     "name": "stdout",
     "output_type": "stream",
     "text": [
      "Cost of item3 , item2 and item1 are 77 , 55 and 40\n"
     ]
    }
   ],
   "source": [
    "# Combining string & numbers using format method\n",
    "item1 = 40\n",
    "item2 = 55\n",
    "item3 = 77\n",
    "\n",
    "res = \"Cost of item3 , item2 and item1 are {2} , {1} and {0}\"\n",
    "\n",
    "print(res.format(item1,item2,item3))"
   ]
  },
  {
   "cell_type": "code",
   "execution_count": 128,
   "metadata": {
    "ExecuteTime": {
     "end_time": "2021-05-14T15:58:53.010636Z",
     "start_time": "2021-05-14T15:58:52.997697Z"
    }
   },
   "outputs": [
    {
     "data": {
      "text/plain": [
       "'                                          WELCOME EVERYONE                                          '"
      ]
     },
     "execution_count": 128,
     "metadata": {},
     "output_type": "execute_result"
    }
   ],
   "source": [
    "str2 = \"WELCOME EVERYONE\"\n",
    "str2.center(100) # center align the string using a specific character as the fill character."
   ]
  },
  {
   "cell_type": "code",
   "execution_count": 134,
   "metadata": {
    "ExecuteTime": {
     "end_time": "2021-05-14T16:00:53.302802Z",
     "start_time": "2021-05-14T16:00:53.294819Z"
    }
   },
   "outputs": [
    {
     "data": {
      "text/plain": [
       "'*****************WELCOME EVERYONE*****************'"
      ]
     },
     "execution_count": 134,
     "metadata": {},
     "output_type": "execute_result"
    }
   ],
   "source": [
    "str2.center(50,\"*\")# center align the string using a specific character ('*') as the fill character."
   ]
  },
  {
   "cell_type": "code",
   "execution_count": 133,
   "metadata": {
    "ExecuteTime": {
     "end_time": "2021-05-14T16:00:49.451818Z",
     "start_time": "2021-05-14T16:00:49.437839Z"
    }
   },
   "outputs": [
    {
     "data": {
      "text/plain": [
       "'**********************************WELCOME EVERYONE'"
      ]
     },
     "execution_count": 133,
     "metadata": {},
     "output_type": "execute_result"
    }
   ],
   "source": [
    "str2.rjust(50,\"*\") # Right align the string using a specific character ('*') as the fill character."
   ]
  },
  {
   "cell_type": "code",
   "execution_count": 141,
   "metadata": {
    "ExecuteTime": {
     "end_time": "2021-05-14T16:03:28.636893Z",
     "start_time": "2021-05-14T16:03:28.624929Z"
    }
   },
   "outputs": [
    {
     "name": "stdout",
     "output_type": "stream",
     "text": [
      "4\n"
     ]
    }
   ],
   "source": [
    "str4 = \"one two one three four five six seven\"\n",
    "loc = str4.find(\"two\")# Find the location of word 'two' in the string \"str4\"\n",
    "print(loc)"
   ]
  },
  {
   "cell_type": "code",
   "execution_count": 153,
   "metadata": {
    "ExecuteTime": {
     "end_time": "2021-05-14T16:09:31.828840Z",
     "start_time": "2021-05-14T16:09:31.820865Z"
    }
   },
   "outputs": [
    {
     "name": "stdout",
     "output_type": "stream",
     "text": [
      "True\n",
      "True\n",
      "False\n",
      "False\n"
     ]
    }
   ],
   "source": [
    "mystr6 = \"ABCD\"\n",
    "print(mystr6.isalpha()) # returns True if all the characters in the text are letters\n",
    "print(mystr6.isalnum())  # returns True if a string contains only letters or numbers or both\n",
    "print(mystr6.isdecimal()) # returns True if all the characters are decimals (0-9)\n",
    "print(mystr6.isnumeric()) # returns True if all the characters are numeric (0-9)"
   ]
  },
  {
   "cell_type": "code",
   "execution_count": 155,
   "metadata": {
    "ExecuteTime": {
     "end_time": "2021-05-14T16:10:10.147232Z",
     "start_time": "2021-05-14T16:10:10.131275Z"
    }
   },
   "outputs": [
    {
     "name": "stdout",
     "output_type": "stream",
     "text": [
      "False\n",
      "True\n",
      "False\n",
      "False\n"
     ]
    }
   ],
   "source": [
    "mystr6 = 'BCD12345'\n",
    "print(mystr6.isalpha()) # returns True if all the characters in the text are letters\n",
    "print(mystr6.isalnum())  # returns True if a string contains only letters or numbers or both\n",
    "print(mystr6.isdecimal()) # returns True if all the characters are decimals (0-9)\n",
    "print(mystr6.isnumeric()) # returns True if all the characters are numeric (0-9)"
   ]
  },
  {
   "cell_type": "code",
   "execution_count": 160,
   "metadata": {
    "ExecuteTime": {
     "end_time": "2021-05-14T16:11:18.587449Z",
     "start_time": "2021-05-14T16:11:18.583446Z"
    }
   },
   "outputs": [
    {
     "name": "stdout",
     "output_type": "stream",
     "text": [
      "False\n",
      "True\n"
     ]
    }
   ],
   "source": [
    "mystr7 = \"abcd\"\n",
    "print(mystr7.isupper())\n",
    "print(mystr7.islower())\n"
   ]
  },
  {
   "cell_type": "code",
   "execution_count": 163,
   "metadata": {
    "ExecuteTime": {
     "end_time": "2021-05-14T16:12:42.607869Z",
     "start_time": "2021-05-14T16:12:42.586927Z"
    }
   },
   "outputs": [
    {
     "data": {
      "text/plain": [
       "65"
      ]
     },
     "execution_count": 163,
     "metadata": {},
     "output_type": "execute_result"
    }
   ],
   "source": [
    "str6 = \"one two three four one two two three five five six one two three one\"\n",
    "str6.rfind(\"one\")# last occurrence of word 'one' in string \n"
   ]
  },
  {
   "cell_type": "code",
   "execution_count": 164,
   "metadata": {
    "ExecuteTime": {
     "end_time": "2021-05-14T16:13:23.091609Z",
     "start_time": "2021-05-14T16:13:23.075637Z"
    }
   },
   "outputs": [
    {
     "name": "stdout",
     "output_type": "stream",
     "text": [
      "65\n"
     ]
    }
   ],
   "source": [
    "loc = str6.rindex(\"one\") # last occurrence of word 'one' in string \"str6\"\n",
    "\n",
    "print(loc)"
   ]
  },
  {
   "cell_type": "code",
   "execution_count": 166,
   "metadata": {
    "ExecuteTime": {
     "end_time": "2021-05-14T16:14:54.516866Z",
     "start_time": "2021-05-14T16:14:54.509890Z"
    }
   },
   "outputs": [
    {
     "name": "stdout",
     "output_type": "stream",
     "text": [
      "   abc def ghi\n",
      "abc def ghi   \n",
      "abc def ghi\n"
     ]
    }
   ],
   "source": [
    "txt = \"   abc def ghi   \"\n",
    "print(txt.rstrip())\n",
    "print(txt.lstrip())\n",
    "print(txt.strip())"
   ]
  },
  {
   "cell_type": "markdown",
   "metadata": {
    "ExecuteTime": {
     "end_time": "2021-05-14T16:15:26.910944Z",
     "start_time": "2021-05-14T16:15:26.901986Z"
    }
   },
   "source": [
    "Using Escape Character¶\n"
   ]
  },
  {
   "cell_type": "code",
   "execution_count": 168,
   "metadata": {
    "ExecuteTime": {
     "end_time": "2021-05-14T16:16:11.575736Z",
     "start_time": "2021-05-14T16:16:11.570746Z"
    }
   },
   "outputs": [
    {
     "ename": "SyntaxError",
     "evalue": "invalid syntax (<ipython-input-168-0fa35a74da86>, line 2)",
     "output_type": "error",
     "traceback": [
      "\u001b[1;36m  File \u001b[1;32m\"<ipython-input-168-0fa35a74da86>\"\u001b[1;36m, line \u001b[1;32m2\u001b[0m\n\u001b[1;33m    mystr = \"My favourite TV Series is \"Game of Thrones\"\"\u001b[0m\n\u001b[1;37m                                           ^\u001b[0m\n\u001b[1;31mSyntaxError\u001b[0m\u001b[1;31m:\u001b[0m invalid syntax\n"
     ]
    }
   ],
   "source": [
    "#Using double quotes in the string is not allowed.\n",
    "mystr = \"My favourite TV Series is \"Game of Thrones\"\""
   ]
  },
  {
   "cell_type": "code",
   "execution_count": 170,
   "metadata": {
    "ExecuteTime": {
     "end_time": "2021-05-14T16:16:27.272958Z",
     "start_time": "2021-05-14T16:16:27.262981Z"
    }
   },
   "outputs": [
    {
     "name": "stdout",
     "output_type": "stream",
     "text": [
      "My favourite series is \"Game of Thrones\"\n"
     ]
    }
   ],
   "source": [
    "#Using escape character to allow illegal characters\n",
    "mystr = \"My favourite series is \\\"Game of Thrones\\\"\"\n",
    "print(mystr)"
   ]
  },
  {
   "cell_type": "markdown",
   "metadata": {},
   "source": [
    "## List\n",
    "\n",
    "\n",
    "1) List is an ordered sequence of items.\n",
    "\n",
    "2) We can have different data types under a list. E.g we can have integer, float and string items in a same list."
   ]
  },
  {
   "cell_type": "code",
   "execution_count": 175,
   "metadata": {
    "ExecuteTime": {
     "end_time": "2021-05-15T11:20:05.315659Z",
     "start_time": "2021-05-15T11:20:05.292494Z"
    }
   },
   "outputs": [
    {
     "name": "stdout",
     "output_type": "stream",
     "text": [
      "<class 'list'>\n"
     ]
    }
   ],
   "source": [
    "#List creation\n",
    "list1 = [] # empty list\n",
    "print(type(list1))"
   ]
  },
  {
   "cell_type": "code",
   "execution_count": 176,
   "metadata": {
    "ExecuteTime": {
     "end_time": "2021-05-15T11:20:32.153278Z",
     "start_time": "2021-05-15T11:20:32.130898Z"
    }
   },
   "outputs": [],
   "source": [
    "list2 = [10,20,30]      # List of integers numbers\n"
   ]
  },
  {
   "cell_type": "code",
   "execution_count": 177,
   "metadata": {
    "ExecuteTime": {
     "end_time": "2021-05-15T11:20:43.330488Z",
     "start_time": "2021-05-15T11:20:43.317234Z"
    }
   },
   "outputs": [],
   "source": [
    "list3 = [10.77,30.66,60.89]       # List of float numbers\n"
   ]
  },
  {
   "cell_type": "code",
   "execution_count": 178,
   "metadata": {
    "ExecuteTime": {
     "end_time": "2021-05-15T11:21:08.643125Z",
     "start_time": "2021-05-15T11:21:08.617607Z"
    }
   },
   "outputs": [],
   "source": [
    "list4 = ['one','two' , \"three\"]   # List of strings\n"
   ]
  },
  {
   "cell_type": "code",
   "execution_count": 179,
   "metadata": {
    "ExecuteTime": {
     "end_time": "2021-05-15T11:21:13.839476Z",
     "start_time": "2021-05-15T11:21:13.825926Z"
    }
   },
   "outputs": [],
   "source": [
    "list5 = ['Mansi', 25 ,[50, 100],[150, 90]]    # Nested Lists\n"
   ]
  },
  {
   "cell_type": "code",
   "execution_count": 180,
   "metadata": {
    "ExecuteTime": {
     "end_time": "2021-05-15T11:21:30.720197Z",
     "start_time": "2021-05-15T11:21:30.704820Z"
    }
   },
   "outputs": [],
   "source": [
    "list6 = [100, 'Mansi', 17.765]   # List of mixed data types\n"
   ]
  },
  {
   "cell_type": "code",
   "execution_count": 182,
   "metadata": {
    "ExecuteTime": {
     "end_time": "2021-05-15T11:22:30.167594Z",
     "start_time": "2021-05-15T11:22:30.144669Z"
    }
   },
   "outputs": [],
   "source": [
    "list7 = ['Mansi', 25 ,[50, 100],[150, 90] , {'John' , 'David'}] # list included list and dictionary\n"
   ]
  },
  {
   "cell_type": "code",
   "execution_count": 183,
   "metadata": {
    "ExecuteTime": {
     "end_time": "2021-05-15T11:22:42.919129Z",
     "start_time": "2021-05-15T11:22:42.904278Z"
    }
   },
   "outputs": [
    {
     "data": {
      "text/plain": [
       "5"
      ]
     },
     "execution_count": 183,
     "metadata": {},
     "output_type": "execute_result"
    }
   ],
   "source": [
    "len(list7) # length of list"
   ]
  },
  {
   "cell_type": "markdown",
   "metadata": {
    "ExecuteTime": {
     "end_time": "2021-05-15T11:22:51.579117Z",
     "start_time": "2021-05-15T11:22:51.561968Z"
    }
   },
   "source": [
    "### List indexing"
   ]
  },
  {
   "attachments": {
    "list.png": {
     "image/png": "[encoded data removed]"
    }
   },
   "cell_type": "markdown",
   "metadata": {},
   "source": [
    "![list.png](attachment:list.png)"
   ]
  },
  {
   "cell_type": "code",
   "execution_count": 185,
   "metadata": {
    "ExecuteTime": {
     "end_time": "2021-05-15T11:30:36.118906Z",
     "start_time": "2021-05-15T11:30:36.099094Z"
    }
   },
   "outputs": [
    {
     "data": {
      "text/plain": [
       "10"
      ]
     },
     "execution_count": 185,
     "metadata": {},
     "output_type": "execute_result"
    }
   ],
   "source": [
    "list2[0] # Retreive first element of the list"
   ]
  },
  {
   "cell_type": "code",
   "execution_count": 188,
   "metadata": {
    "ExecuteTime": {
     "end_time": "2021-05-15T11:31:46.815659Z",
     "start_time": "2021-05-15T11:31:46.792574Z"
    }
   },
   "outputs": [
    {
     "data": {
      "text/plain": [
       "'o'"
      ]
     },
     "execution_count": 188,
     "metadata": {},
     "output_type": "execute_result"
    }
   ],
   "source": [
    "list4[0][0] # Nested indexing - Access the first character of the first list element"
   ]
  },
  {
   "cell_type": "code",
   "execution_count": 191,
   "metadata": {
    "ExecuteTime": {
     "end_time": "2021-05-15T11:33:06.803765Z",
     "start_time": "2021-05-15T11:33:06.778117Z"
    }
   },
   "outputs": [
    {
     "data": {
      "text/plain": [
       "'three'"
      ]
     },
     "execution_count": 191,
     "metadata": {},
     "output_type": "execute_result"
    }
   ],
   "source": [
    "list4[-1] #last item of list\n",
    "\n",
    "    #0r\n",
    "    \n",
    "list4[len(list4)-1]"
   ]
  },
  {
   "cell_type": "markdown",
   "metadata": {},
   "source": [
    "### List Slicing"
   ]
  },
  {
   "cell_type": "code",
   "execution_count": 192,
   "metadata": {
    "ExecuteTime": {
     "end_time": "2021-05-15T11:34:25.886525Z",
     "start_time": "2021-05-15T11:34:25.878399Z"
    }
   },
   "outputs": [],
   "source": [
    "mylist = ['one' , 'two' , 'three' , 'four' , 'five' , 'six' , 'seven' , 'eight']\n"
   ]
  },
  {
   "cell_type": "code",
   "execution_count": 201,
   "metadata": {
    "ExecuteTime": {
     "end_time": "2021-05-15T11:35:57.978016Z",
     "start_time": "2021-05-15T11:35:57.969393Z"
    }
   },
   "outputs": [
    {
     "data": {
      "text/plain": [
       "['one', 'two', 'three']"
      ]
     },
     "execution_count": 201,
     "metadata": {},
     "output_type": "execute_result"
    }
   ],
   "source": [
    "# Return all items from 0th to 3rd index location excluding the item at loc 3.\n",
    "mylist[0:3]"
   ]
  },
  {
   "cell_type": "code",
   "execution_count": 202,
   "metadata": {
    "ExecuteTime": {
     "end_time": "2021-05-15T11:36:08.380051Z",
     "start_time": "2021-05-15T11:36:08.367913Z"
    }
   },
   "outputs": [
    {
     "data": {
      "text/plain": [
       "['three', 'four', 'five']"
      ]
     },
     "execution_count": 202,
     "metadata": {},
     "output_type": "execute_result"
    }
   ],
   "source": [
    "# List all items from 2nd to 5th index location excluding the item at loc 5.\n",
    "mylist[2:5]"
   ]
  },
  {
   "cell_type": "code",
   "execution_count": 204,
   "metadata": {
    "ExecuteTime": {
     "end_time": "2021-05-15T11:37:35.023175Z",
     "start_time": "2021-05-15T11:37:35.009382Z"
    }
   },
   "outputs": [
    {
     "data": {
      "text/plain": [
       "['one', 'two', 'three']"
      ]
     },
     "execution_count": 204,
     "metadata": {},
     "output_type": "execute_result"
    }
   ],
   "source": [
    "# Return first three items\n",
    "mylist[:3]"
   ]
  },
  {
   "cell_type": "code",
   "execution_count": 205,
   "metadata": {
    "ExecuteTime": {
     "end_time": "2021-05-15T11:37:45.741651Z",
     "start_time": "2021-05-15T11:37:45.724733Z"
    }
   },
   "outputs": [
    {
     "data": {
      "text/plain": [
       "['one', 'two']"
      ]
     },
     "execution_count": 205,
     "metadata": {},
     "output_type": "execute_result"
    }
   ],
   "source": [
    "# Return first two items\n",
    "mylist[:2]"
   ]
  },
  {
   "cell_type": "code",
   "execution_count": 206,
   "metadata": {
    "ExecuteTime": {
     "end_time": "2021-05-15T11:39:52.147336Z",
     "start_time": "2021-05-15T11:39:52.140646Z"
    }
   },
   "outputs": [
    {
     "data": {
      "text/plain": [
       "['six', 'seven', 'eight']"
      ]
     },
     "execution_count": 206,
     "metadata": {},
     "output_type": "execute_result"
    }
   ],
   "source": [
    "# Return last three items\n",
    "mylist[-3:]"
   ]
  },
  {
   "cell_type": "code",
   "execution_count": 207,
   "metadata": {
    "ExecuteTime": {
     "end_time": "2021-05-15T11:40:09.500591Z",
     "start_time": "2021-05-15T11:40:09.485185Z"
    }
   },
   "outputs": [
    {
     "data": {
      "text/plain": [
       "['seven', 'eight']"
      ]
     },
     "execution_count": 207,
     "metadata": {},
     "output_type": "execute_result"
    }
   ],
   "source": [
    "# Return last two items\n",
    "mylist[-2:]"
   ]
  },
  {
   "cell_type": "code",
   "execution_count": 208,
   "metadata": {
    "ExecuteTime": {
     "end_time": "2021-05-15T11:40:38.128588Z",
     "start_time": "2021-05-15T11:40:38.116226Z"
    }
   },
   "outputs": [
    {
     "data": {
      "text/plain": [
       "'eight'"
      ]
     },
     "execution_count": 208,
     "metadata": {},
     "output_type": "execute_result"
    }
   ],
   "source": [
    "# Return last item of the list\n",
    "mylist[-1] "
   ]
  },
  {
   "cell_type": "code",
   "execution_count": 210,
   "metadata": {
    "ExecuteTime": {
     "end_time": "2021-05-15T11:40:58.366320Z",
     "start_time": "2021-05-15T11:40:58.360797Z"
    }
   },
   "outputs": [
    {
     "data": {
      "text/plain": [
       "['one', 'two', 'three', 'four', 'five', 'six', 'seven', 'eight']"
      ]
     },
     "execution_count": 210,
     "metadata": {},
     "output_type": "execute_result"
    }
   ],
   "source": [
    "# Return whole list\n",
    "mylist[:]"
   ]
  },
  {
   "cell_type": "markdown",
   "metadata": {},
   "source": [
    "\n",
    "### Add , Remove & Change Items¶\n"
   ]
  },
  {
   "cell_type": "code",
   "execution_count": 211,
   "metadata": {
    "ExecuteTime": {
     "end_time": "2021-05-15T11:41:40.725565Z",
     "start_time": "2021-05-15T11:41:40.709115Z"
    }
   },
   "outputs": [
    {
     "data": {
      "text/plain": [
       "['one', 'two', 'three', 'four', 'five', 'six', 'seven', 'eight']"
      ]
     },
     "execution_count": 211,
     "metadata": {},
     "output_type": "execute_result"
    }
   ],
   "source": [
    "mylist"
   ]
  },
  {
   "cell_type": "code",
   "execution_count": 226,
   "metadata": {
    "ExecuteTime": {
     "end_time": "2021-05-15T11:46:25.085279Z",
     "start_time": "2021-05-15T11:46:25.070205Z"
    }
   },
   "outputs": [
    {
     "data": {
      "text/plain": [
       "['one',\n",
       " 'two',\n",
       " 'three',\n",
       " 'four',\n",
       " 'five',\n",
       " 'six',\n",
       " 'seven',\n",
       " 'eight',\n",
       " 'Nine',\n",
       " 'Nine',\n",
       " 'Nine',\n",
       " 'ten']"
      ]
     },
     "execution_count": 226,
     "metadata": {},
     "output_type": "execute_result"
    }
   ],
   "source": [
    "# Add an item to the end of the list  \n",
    "mylist.append(\"ten\")\n",
    "mylist"
   ]
  },
  {
   "cell_type": "code",
   "execution_count": 229,
   "metadata": {
    "ExecuteTime": {
     "end_time": "2021-05-15T11:47:16.386402Z",
     "start_time": "2021-05-15T11:47:16.374489Z"
    }
   },
   "outputs": [
    {
     "data": {
      "text/plain": [
       "['one',\n",
       " 'two',\n",
       " 'three',\n",
       " 'four',\n",
       " 'five',\n",
       " 'six',\n",
       " 'seven',\n",
       " 'eight',\n",
       " 'Nine',\n",
       " 'Hello',\n",
       " 'Hello',\n",
       " 'Nine',\n",
       " 'Nine',\n",
       " 'ten']"
      ]
     },
     "execution_count": 229,
     "metadata": {},
     "output_type": "execute_result"
    }
   ],
   "source": [
    "# Add item at index location 9\n",
    "mylist.insert(9,\"Hello\")\n",
    "mylist"
   ]
  },
  {
   "cell_type": "code",
   "execution_count": 230,
   "metadata": {
    "ExecuteTime": {
     "end_time": "2021-05-15T11:48:36.427743Z",
     "start_time": "2021-05-15T11:48:36.414014Z"
    }
   },
   "outputs": [
    {
     "data": {
      "text/plain": [
       "['one',\n",
       " 'Hi',\n",
       " 'two',\n",
       " 'three',\n",
       " 'four',\n",
       " 'five',\n",
       " 'six',\n",
       " 'seven',\n",
       " 'eight',\n",
       " 'Nine',\n",
       " 'Hello',\n",
       " 'Hello',\n",
       " 'Nine',\n",
       " 'Nine',\n",
       " 'ten']"
      ]
     },
     "execution_count": 230,
     "metadata": {},
     "output_type": "execute_result"
    }
   ],
   "source": [
    "# Add item at index location 1\n",
    "mylist.insert(1,\"Hi\")\n",
    "mylist"
   ]
  },
  {
   "cell_type": "code",
   "execution_count": 237,
   "metadata": {
    "ExecuteTime": {
     "end_time": "2021-05-15T11:51:05.411822Z",
     "start_time": "2021-05-15T11:51:05.399897Z"
    }
   },
   "outputs": [
    {
     "data": {
      "text/plain": [
       "['one', 'two', 'three', 'four', 'five', 'six', 'seven', 'eight', 'Nine', 'ten']"
      ]
     },
     "execution_count": 237,
     "metadata": {},
     "output_type": "execute_result"
    }
   ],
   "source": [
    "# Remove item \"ONE\"\n",
    "mylist.remove(\"Hello\")\n",
    "mylist"
   ]
  },
  {
   "cell_type": "code",
   "execution_count": 238,
   "metadata": {
    "ExecuteTime": {
     "end_time": "2021-05-15T11:52:00.625169Z",
     "start_time": "2021-05-15T11:52:00.610599Z"
    }
   },
   "outputs": [
    {
     "data": {
      "text/plain": [
       "'ten'"
      ]
     },
     "execution_count": 238,
     "metadata": {},
     "output_type": "execute_result"
    }
   ],
   "source": [
    "# Remove last item of the list\n",
    "mylist.pop()"
   ]
  },
  {
   "cell_type": "code",
   "execution_count": 239,
   "metadata": {
    "ExecuteTime": {
     "end_time": "2021-05-15T11:52:34.040013Z",
     "start_time": "2021-05-15T11:52:34.023322Z"
    }
   },
   "outputs": [
    {
     "data": {
      "text/plain": [
       "'Nine'"
      ]
     },
     "execution_count": 239,
     "metadata": {},
     "output_type": "execute_result"
    }
   ],
   "source": [
    "# Remove item at index location 8\n",
    "mylist.pop(8)"
   ]
  },
  {
   "cell_type": "code",
   "execution_count": 241,
   "metadata": {
    "ExecuteTime": {
     "end_time": "2021-05-15T11:54:12.655921Z",
     "start_time": "2021-05-15T11:54:12.642976Z"
    }
   },
   "outputs": [
    {
     "data": {
      "text/plain": [
       "['one', 'two', 'three', 'four', 'five', 'six', 'seven', 'eight']"
      ]
     },
     "execution_count": 241,
     "metadata": {},
     "output_type": "execute_result"
    }
   ],
   "source": [
    "mylist"
   ]
  },
  {
   "cell_type": "code",
   "execution_count": 244,
   "metadata": {
    "ExecuteTime": {
     "end_time": "2021-05-15T11:55:59.586180Z",
     "start_time": "2021-05-15T11:55:59.573466Z"
    }
   },
   "outputs": [
    {
     "data": {
      "text/plain": [
       "['one', 'two', 'three', 'four', 'five', 'six', 'seven']"
      ]
     },
     "execution_count": 244,
     "metadata": {},
     "output_type": "execute_result"
    }
   ],
   "source": [
    "# Remove item at index location 7\n",
    "del mylist[7]\n",
    "mylist"
   ]
  },
  {
   "cell_type": "code",
   "execution_count": 240,
   "metadata": {
    "ExecuteTime": {
     "end_time": "2021-05-15T11:53:32.593991Z",
     "start_time": "2021-05-15T11:53:32.574047Z"
    }
   },
   "outputs": [
    {
     "data": {
      "text/plain": [
       "['one', 'two', 'three', 'four', 'five', 'six', 'seven', 'eight']"
      ]
     },
     "execution_count": 240,
     "metadata": {},
     "output_type": "execute_result"
    }
   ],
   "source": [
    "mylist"
   ]
  },
  {
   "cell_type": "code",
   "execution_count": 248,
   "metadata": {
    "ExecuteTime": {
     "end_time": "2021-05-15T11:59:17.132466Z",
     "start_time": "2021-05-15T11:59:17.109273Z"
    }
   },
   "outputs": [
    {
     "data": {
      "text/plain": [
       "[1, 'two', 'three', 4, 'five', 'six', 'seven']"
      ]
     },
     "execution_count": 248,
     "metadata": {},
     "output_type": "execute_result"
    }
   ],
   "source": [
    "# Change value of the string\n",
    "#mylist[0] = 1\n",
    "#mylist[3] =4\n",
    "mylist"
   ]
  },
  {
   "cell_type": "code",
   "execution_count": 250,
   "metadata": {
    "ExecuteTime": {
     "end_time": "2021-05-15T11:59:52.427961Z",
     "start_time": "2021-05-15T11:59:52.414962Z"
    }
   },
   "outputs": [
    {
     "data": {
      "text/plain": [
       "[]"
      ]
     },
     "execution_count": 250,
     "metadata": {},
     "output_type": "execute_result"
    }
   ],
   "source": [
    "# Empty List / Delete all items in the list\n",
    "mylist.clear()\n",
    "mylist"
   ]
  },
  {
   "cell_type": "code",
   "execution_count": 252,
   "metadata": {
    "ExecuteTime": {
     "end_time": "2021-05-15T12:00:33.156679Z",
     "start_time": "2021-05-15T12:00:33.131839Z"
    }
   },
   "outputs": [
    {
     "ename": "NameError",
     "evalue": "name 'mylist' is not defined",
     "output_type": "error",
     "traceback": [
      "\u001b[1;31m---------------------------------------------------------------------------\u001b[0m",
      "\u001b[1;31mNameError\u001b[0m                                 Traceback (most recent call last)",
      "\u001b[1;32m<ipython-input-252-c269e856eebe>\u001b[0m in \u001b[0;36m<module>\u001b[1;34m\u001b[0m\n\u001b[0;32m      1\u001b[0m \u001b[1;31m# Delete the whole list\u001b[0m\u001b[1;33m\u001b[0m\u001b[1;33m\u001b[0m\u001b[1;33m\u001b[0m\u001b[0m\n\u001b[1;32m----> 2\u001b[1;33m \u001b[1;32mdel\u001b[0m \u001b[0mmylist\u001b[0m\u001b[1;33m\u001b[0m\u001b[1;33m\u001b[0m\u001b[0m\n\u001b[0m\u001b[0;32m      3\u001b[0m \u001b[0mmylist\u001b[0m\u001b[1;33m\u001b[0m\u001b[1;33m\u001b[0m\u001b[0m\n",
      "\u001b[1;31mNameError\u001b[0m: name 'mylist' is not defined"
     ]
    }
   ],
   "source": [
    "# Delete the whole list\n",
    "del mylist\n",
    "mylist"
   ]
  },
  {
   "cell_type": "markdown",
   "metadata": {
    "ExecuteTime": {
     "end_time": "2021-05-15T12:00:50.640980Z",
     "start_time": "2021-05-15T12:00:50.632823Z"
    }
   },
   "source": [
    "### Copy List¶\n"
   ]
  },
  {
   "cell_type": "code",
   "execution_count": 254,
   "metadata": {
    "ExecuteTime": {
     "end_time": "2021-05-15T12:02:47.607574Z",
     "start_time": "2021-05-15T12:02:47.594040Z"
    }
   },
   "outputs": [],
   "source": [
    "mylist = ['one', 'two', 'three', 'four', 'five', 'six', 'seven', 'eight', 'nine', 'ten']\n"
   ]
  },
  {
   "cell_type": "code",
   "execution_count": 259,
   "metadata": {
    "ExecuteTime": {
     "end_time": "2021-05-15T12:29:27.202943Z",
     "start_time": "2021-05-15T12:29:27.187474Z"
    }
   },
   "outputs": [],
   "source": [
    "# Create a new reference \"mylist1\"\n",
    "mylist1 = mylist"
   ]
  },
  {
   "cell_type": "code",
   "execution_count": 262,
   "metadata": {
    "ExecuteTime": {
     "end_time": "2021-05-15T12:30:01.522530Z",
     "start_time": "2021-05-15T12:30:01.509762Z"
    }
   },
   "outputs": [
    {
     "data": {
      "text/plain": [
       "(2974471203272, 2974471203272)"
      ]
     },
     "execution_count": 262,
     "metadata": {},
     "output_type": "execute_result"
    }
   ],
   "source": [
    "# The address of both mylist & mylist1 will be the same as both are pointing to same list.\n",
    "id(mylist) , id(mylist1)"
   ]
  },
  {
   "cell_type": "code",
   "execution_count": 264,
   "metadata": {
    "ExecuteTime": {
     "end_time": "2021-05-15T12:30:31.845105Z",
     "start_time": "2021-05-15T12:30:31.821105Z"
    }
   },
   "outputs": [
    {
     "data": {
      "text/plain": [
       "['one', 'two', 'three', 'four', 'five', 'six', 'seven', 'eight', 'nine', 'ten']"
      ]
     },
     "execution_count": 264,
     "metadata": {},
     "output_type": "execute_result"
    }
   ],
   "source": [
    "# Create a copy of the list\n",
    "mylist2 = mylist.copy()\n",
    "mylist2"
   ]
  },
  {
   "cell_type": "code",
   "execution_count": 267,
   "metadata": {
    "ExecuteTime": {
     "end_time": "2021-05-15T12:31:31.997886Z",
     "start_time": "2021-05-15T12:31:31.982821Z"
    }
   },
   "outputs": [
    {
     "data": {
      "text/plain": [
       "(2974474812936, 2974471203272, 2974471203272)"
      ]
     },
     "execution_count": 267,
     "metadata": {},
     "output_type": "execute_result"
    }
   ],
   "source": [
    "# The address of mylist2 will be different from mylist because mylist2 is pointing to the copy of the existing list\n",
    "id(mylist2) , id(mylist),id(mylist1)\n",
    "    "
   ]
  },
  {
   "cell_type": "code",
   "execution_count": 268,
   "metadata": {
    "ExecuteTime": {
     "end_time": "2021-05-15T12:31:53.761028Z",
     "start_time": "2021-05-15T12:31:53.740366Z"
    }
   },
   "outputs": [
    {
     "data": {
      "text/plain": [
       "[1, 'two', 'three', 'four', 'five', 'six', 'seven', 'eight', 'nine', 'ten']"
      ]
     },
     "execution_count": 268,
     "metadata": {},
     "output_type": "execute_result"
    }
   ],
   "source": [
    "mylist[0]=1\n",
    "mylist"
   ]
  },
  {
   "cell_type": "code",
   "execution_count": 269,
   "metadata": {
    "ExecuteTime": {
     "end_time": "2021-05-15T12:32:05.636583Z",
     "start_time": "2021-05-15T12:32:05.624806Z"
    }
   },
   "outputs": [
    {
     "data": {
      "text/plain": [
       "[1, 'two', 'three', 'four', 'five', 'six', 'seven', 'eight', 'nine', 'ten']"
      ]
     },
     "execution_count": 269,
     "metadata": {},
     "output_type": "execute_result"
    }
   ],
   "source": [
    "mylist1 # mylist1 will be also impacted as it is pointing to the same list"
   ]
  },
  {
   "cell_type": "code",
   "execution_count": 271,
   "metadata": {
    "ExecuteTime": {
     "end_time": "2021-05-15T12:32:37.220548Z",
     "start_time": "2021-05-15T12:32:37.198410Z"
    }
   },
   "outputs": [
    {
     "data": {
      "text/plain": [
       "['one', 'two', 'three', 'four', 'five', 'six', 'seven', 'eight', 'nine', 'ten']"
      ]
     },
     "execution_count": 271,
     "metadata": {},
     "output_type": "execute_result"
    }
   ],
   "source": [
    "mylist2 # Copy of list won't be impacted due to changes made on the original list"
   ]
  },
  {
   "cell_type": "markdown",
   "metadata": {},
   "source": [
    "### Join lists"
   ]
  },
  {
   "cell_type": "code",
   "execution_count": 293,
   "metadata": {
    "ExecuteTime": {
     "end_time": "2021-05-15T12:56:41.015791Z",
     "start_time": "2021-05-15T12:56:40.996845Z"
    }
   },
   "outputs": [],
   "source": [
    "list1 = [1,2,3]\n",
    "list2 = [\"one\",\"two\"]\n",
    "list3 = [\"12\",12,12.12]\n",
    "\n"
   ]
  },
  {
   "cell_type": "code",
   "execution_count": 294,
   "metadata": {
    "ExecuteTime": {
     "end_time": "2021-05-15T12:56:42.217722Z",
     "start_time": "2021-05-15T12:56:42.200768Z"
    }
   },
   "outputs": [
    {
     "data": {
      "text/plain": [
       "[1, 2, 3, 'one', 'two', '12', 12, 12.12]"
      ]
     },
     "execution_count": 294,
     "metadata": {},
     "output_type": "execute_result"
    }
   ],
   "source": [
    "list4 = list1 +list2 +list3  # Join two lists by '+' operator\n",
    "list4 "
   ]
  },
  {
   "cell_type": "code",
   "execution_count": 295,
   "metadata": {
    "ExecuteTime": {
     "end_time": "2021-05-15T12:56:43.016065Z",
     "start_time": "2021-05-15T12:56:42.996120Z"
    }
   },
   "outputs": [
    {
     "data": {
      "text/plain": [
       "[1, 2, 3, 'one', 'two']"
      ]
     },
     "execution_count": 295,
     "metadata": {},
     "output_type": "execute_result"
    }
   ],
   "source": [
    "list1.extend(list2) #Append list2 with list1\n",
    "list1"
   ]
  },
  {
   "cell_type": "markdown",
   "metadata": {},
   "source": [
    "### List Membership¶\n"
   ]
  },
  {
   "cell_type": "code",
   "execution_count": 292,
   "metadata": {
    "ExecuteTime": {
     "end_time": "2021-05-15T12:55:49.246192Z",
     "start_time": "2021-05-15T12:55:49.227243Z"
    }
   },
   "outputs": [
    {
     "data": {
      "text/plain": [
       "[1, 2, 3, 'one', 'two']"
      ]
     },
     "execution_count": 292,
     "metadata": {},
     "output_type": "execute_result"
    }
   ],
   "source": [
    "list1\n"
   ]
  },
  {
   "cell_type": "code",
   "execution_count": 298,
   "metadata": {
    "ExecuteTime": {
     "end_time": "2021-05-15T12:57:08.224412Z",
     "start_time": "2021-05-15T12:57:08.215435Z"
    }
   },
   "outputs": [
    {
     "data": {
      "text/plain": [
       "True"
      ]
     },
     "execution_count": 298,
     "metadata": {},
     "output_type": "execute_result"
    }
   ],
   "source": [
    "'one' in list1 # Check if 'one' exist in the list"
   ]
  },
  {
   "cell_type": "code",
   "execution_count": 299,
   "metadata": {
    "ExecuteTime": {
     "end_time": "2021-05-15T12:57:17.702406Z",
     "start_time": "2021-05-15T12:57:17.695425Z"
    }
   },
   "outputs": [
    {
     "data": {
      "text/plain": [
       "False"
      ]
     },
     "execution_count": 299,
     "metadata": {},
     "output_type": "execute_result"
    }
   ],
   "source": [
    "'ten' in list1 # Check if 'ten' exist in the list"
   ]
  },
  {
   "cell_type": "code",
   "execution_count": 304,
   "metadata": {
    "ExecuteTime": {
     "end_time": "2021-05-15T12:59:36.373333Z",
     "start_time": "2021-05-15T12:59:36.359373Z"
    }
   },
   "outputs": [
    {
     "name": "stdout",
     "output_type": "stream",
     "text": [
      "Three is not present in the list\n"
     ]
    }
   ],
   "source": [
    "if \"three\" in list1:\n",
    "    print(\"Three is present in the list\")\n",
    "else:\n",
    "    print(\"Three is not present in the list\")"
   ]
  },
  {
   "cell_type": "code",
   "execution_count": 305,
   "metadata": {
    "ExecuteTime": {
     "end_time": "2021-05-15T12:59:37.059557Z",
     "start_time": "2021-05-15T12:59:37.048586Z"
    }
   },
   "outputs": [
    {
     "name": "stdout",
     "output_type": "stream",
     "text": [
      "1 is present in the list\n"
     ]
    }
   ],
   "source": [
    "if 1 in list1:  # Check if 'eleven' exist in the list\n",
    "    print('1 is present in the list')\n",
    "else:\n",
    "    print('1 is not present in the list')"
   ]
  },
  {
   "cell_type": "markdown",
   "metadata": {},
   "source": [
    "### Reverse & Sort List¶\n"
   ]
  },
  {
   "cell_type": "code",
   "execution_count": 310,
   "metadata": {
    "ExecuteTime": {
     "end_time": "2021-05-15T13:00:43.926441Z",
     "start_time": "2021-05-15T13:00:43.910486Z"
    }
   },
   "outputs": [
    {
     "data": {
      "text/plain": [
       "[1, 2, 3, 'one', 'two']"
      ]
     },
     "execution_count": 310,
     "metadata": {},
     "output_type": "execute_result"
    }
   ],
   "source": [
    "list1\n"
   ]
  },
  {
   "cell_type": "code",
   "execution_count": 311,
   "metadata": {
    "ExecuteTime": {
     "end_time": "2021-05-15T13:00:44.494301Z",
     "start_time": "2021-05-15T13:00:44.480323Z"
    }
   },
   "outputs": [
    {
     "data": {
      "text/plain": [
       "['two', 'one', 3, 2, 1]"
      ]
     },
     "execution_count": 311,
     "metadata": {},
     "output_type": "execute_result"
    }
   ],
   "source": [
    "list1.reverse() #  Reverse the list\n",
    "list1"
   ]
  },
  {
   "cell_type": "code",
   "execution_count": 312,
   "metadata": {
    "ExecuteTime": {
     "end_time": "2021-05-15T13:01:20.182835Z",
     "start_time": "2021-05-15T13:01:20.168873Z"
    }
   },
   "outputs": [
    {
     "data": {
      "text/plain": [
       "[1, 2, 3, 'one', 'two']"
      ]
     },
     "execution_count": 312,
     "metadata": {},
     "output_type": "execute_result"
    }
   ],
   "source": [
    "list1 = list1[::-1] # Reverse the list\n",
    "list1\n"
   ]
  },
  {
   "cell_type": "code",
   "execution_count": 315,
   "metadata": {
    "ExecuteTime": {
     "end_time": "2021-05-15T13:04:01.117543Z",
     "start_time": "2021-05-15T13:04:01.097597Z"
    }
   },
   "outputs": [
    {
     "data": {
      "text/plain": [
       "[4, 11, 12, 23, 44, 56, 59, 99]"
      ]
     },
     "execution_count": 315,
     "metadata": {},
     "output_type": "execute_result"
    }
   ],
   "source": [
    "list3 = [12,23,11,4,56,44,59,99]\n",
    "list3.sort() #\n",
    "list3"
   ]
  },
  {
   "cell_type": "code",
   "execution_count": 317,
   "metadata": {
    "ExecuteTime": {
     "end_time": "2021-05-15T13:04:33.810402Z",
     "start_time": "2021-05-15T13:04:33.795442Z"
    }
   },
   "outputs": [
    {
     "data": {
      "text/plain": [
       "[99, 88, 34, 12, 9, 5, 2]"
      ]
     },
     "execution_count": 317,
     "metadata": {},
     "output_type": "execute_result"
    }
   ],
   "source": [
    "mylist3 = [9,5,2,99,12,88,34]\n",
    "mylist3.sort(reverse=True)  # Sort list in descending order\n",
    "mylist3"
   ]
  },
  {
   "cell_type": "code",
   "execution_count": 318,
   "metadata": {
    "ExecuteTime": {
     "end_time": "2021-05-15T13:21:48.561253Z",
     "start_time": "2021-05-15T13:21:48.553278Z"
    }
   },
   "outputs": [
    {
     "data": {
      "text/plain": [
       "[11, 21, 33, 65, 88, 98]"
      ]
     },
     "execution_count": 318,
     "metadata": {},
     "output_type": "execute_result"
    }
   ],
   "source": [
    "mylist4 = [88,65,33,21,11,98]\n",
    "sorted(mylist4) # Returns a new sorted list and doesn't change original lis"
   ]
  },
  {
   "cell_type": "code",
   "execution_count": 320,
   "metadata": {
    "ExecuteTime": {
     "end_time": "2021-05-15T13:22:31.660426Z",
     "start_time": "2021-05-15T13:22:31.648464Z"
    }
   },
   "outputs": [
    {
     "data": {
      "text/plain": [
       "[88, 65, 33, 21, 11, 98]"
      ]
     },
     "execution_count": 320,
     "metadata": {},
     "output_type": "execute_result"
    }
   ],
   "source": [
    "mylist4"
   ]
  },
  {
   "cell_type": "markdown",
   "metadata": {},
   "source": [
    "### Loop through a list¶\n"
   ]
  },
  {
   "cell_type": "code",
   "execution_count": 332,
   "metadata": {
    "ExecuteTime": {
     "end_time": "2021-05-15T13:28:48.967082Z",
     "start_time": "2021-05-15T13:28:48.954117Z"
    }
   },
   "outputs": [],
   "source": [
    "list1 = [1,2,\"hi\",\"Hello\",\"Hi\",\"hi\",12.2,[1,2,3]]"
   ]
  },
  {
   "cell_type": "code",
   "execution_count": 333,
   "metadata": {
    "ExecuteTime": {
     "end_time": "2021-05-15T13:28:49.613558Z",
     "start_time": "2021-05-15T13:28:49.596604Z"
    }
   },
   "outputs": [
    {
     "name": "stdout",
     "output_type": "stream",
     "text": [
      "1\n",
      "2\n",
      "hi\n",
      "Hello\n",
      "Hi\n",
      "hi\n",
      "12.2\n",
      "[1, 2, 3]\n"
     ]
    }
   ],
   "source": [
    "for i in list1:\n",
    "    print(i)\n"
   ]
  },
  {
   "cell_type": "code",
   "execution_count": 334,
   "metadata": {
    "ExecuteTime": {
     "end_time": "2021-05-15T13:28:50.256781Z",
     "start_time": "2021-05-15T13:28:50.239827Z"
    }
   },
   "outputs": [
    {
     "name": "stdout",
     "output_type": "stream",
     "text": [
      "(0, 1)\n",
      "(1, 2)\n",
      "(2, 'hi')\n",
      "(3, 'Hello')\n",
      "(4, 'Hi')\n",
      "(5, 'hi')\n",
      "(6, 12.2)\n",
      "(7, [1, 2, 3])\n"
     ]
    }
   ],
   "source": [
    "for i in enumerate(list1):\n",
    "    print(i)"
   ]
  },
  {
   "cell_type": "markdown",
   "metadata": {},
   "source": [
    "### Count¶\n"
   ]
  },
  {
   "cell_type": "code",
   "execution_count": 337,
   "metadata": {
    "ExecuteTime": {
     "end_time": "2021-05-15T13:29:03.677022Z",
     "start_time": "2021-05-15T13:29:03.663064Z"
    }
   },
   "outputs": [
    {
     "data": {
      "text/plain": [
       "2"
      ]
     },
     "execution_count": 337,
     "metadata": {},
     "output_type": "execute_result"
    }
   ],
   "source": [
    "list1.count(\"hi\") # Number of times item \"hi\" occurred in the list."
   ]
  },
  {
   "cell_type": "markdown",
   "metadata": {},
   "source": [
    "### All / Any¶\n",
    "\n",
    "The all() method returns:\n",
    "\n",
    "True - If all elements in a list are true\n",
    "\n",
    "False - If any element in a list is false\n",
    "\n",
    "The any() function returns True if any element in the list is True. If not, any() returns False"
   ]
  },
  {
   "cell_type": "code",
   "execution_count": 352,
   "metadata": {
    "ExecuteTime": {
     "end_time": "2021-05-15T13:35:52.359509Z",
     "start_time": "2021-05-15T13:35:52.345547Z"
    }
   },
   "outputs": [],
   "source": [
    "L1 = [1,2,3,4,0]\n"
   ]
  },
  {
   "cell_type": "code",
   "execution_count": 351,
   "metadata": {
    "ExecuteTime": {
     "end_time": "2021-05-15T13:35:48.268017Z",
     "start_time": "2021-05-15T13:35:48.252058Z"
    }
   },
   "outputs": [
    {
     "data": {
      "text/plain": [
       "True"
      ]
     },
     "execution_count": 351,
     "metadata": {},
     "output_type": "execute_result"
    }
   ],
   "source": [
    "all(L1) # Will Return false as one value is false (Value 0)\n"
   ]
  },
  {
   "cell_type": "code",
   "execution_count": 349,
   "metadata": {
    "ExecuteTime": {
     "end_time": "2021-05-15T13:35:44.144795Z",
     "start_time": "2021-05-15T13:35:44.125846Z"
    }
   },
   "outputs": [
    {
     "data": {
      "text/plain": [
       "True"
      ]
     },
     "execution_count": 349,
     "metadata": {},
     "output_type": "execute_result"
    }
   ],
   "source": [
    "any(L1)  # Will Return True as we have items in the list with True value\n"
   ]
  },
  {
   "cell_type": "code",
   "execution_count": 357,
   "metadata": {
    "ExecuteTime": {
     "end_time": "2021-05-15T13:36:34.636059Z",
     "start_time": "2021-05-15T13:36:34.632070Z"
    }
   },
   "outputs": [],
   "source": [
    "L2 = [1,2,3,4,True,False]\n"
   ]
  },
  {
   "cell_type": "code",
   "execution_count": 358,
   "metadata": {
    "ExecuteTime": {
     "end_time": "2021-05-15T13:36:40.294361Z",
     "start_time": "2021-05-15T13:36:40.277406Z"
    }
   },
   "outputs": [
    {
     "data": {
      "text/plain": [
       "False"
      ]
     },
     "execution_count": 358,
     "metadata": {},
     "output_type": "execute_result"
    }
   ],
   "source": [
    "all(L2) # Returns false as one value is false\n"
   ]
  },
  {
   "cell_type": "markdown",
   "metadata": {
    "ExecuteTime": {
     "end_time": "2021-05-15T13:36:45.349184Z",
     "start_time": "2021-05-15T13:36:45.337218Z"
    }
   },
   "source": [
    "# any(L2)  # Will Return True as we have items in the list with True value\n"
   ]
  },
  {
   "cell_type": "code",
   "execution_count": 360,
   "metadata": {
    "ExecuteTime": {
     "end_time": "2021-05-15T13:36:53.107057Z",
     "start_time": "2021-05-15T13:36:53.095090Z"
    }
   },
   "outputs": [],
   "source": [
    "L3 = [1,2,3,True]\n"
   ]
  },
  {
   "cell_type": "code",
   "execution_count": 361,
   "metadata": {
    "ExecuteTime": {
     "end_time": "2021-05-15T13:36:57.889648Z",
     "start_time": "2021-05-15T13:36:57.875559Z"
    }
   },
   "outputs": [
    {
     "data": {
      "text/plain": [
       "True"
      ]
     },
     "execution_count": 361,
     "metadata": {},
     "output_type": "execute_result"
    }
   ],
   "source": [
    "all(L3) # Will return True as all items in the list are True\n"
   ]
  },
  {
   "cell_type": "code",
   "execution_count": 362,
   "metadata": {
    "ExecuteTime": {
     "end_time": "2021-05-15T13:37:03.458851Z",
     "start_time": "2021-05-15T13:37:03.439889Z"
    }
   },
   "outputs": [
    {
     "data": {
      "text/plain": [
       "True"
      ]
     },
     "execution_count": 362,
     "metadata": {},
     "output_type": "execute_result"
    }
   ],
   "source": [
    "any(L3) # Will Return True as we have items in the list with True value\n"
   ]
  },
  {
   "cell_type": "markdown",
   "metadata": {
    "ExecuteTime": {
     "end_time": "2021-05-15T13:37:49.853809Z",
     "start_time": "2021-05-15T13:37:49.835885Z"
    }
   },
   "source": [
    "### List Comprehensions¶\n",
    "\n",
    "\n",
    "List Comprehensions provide an elegant way to create new lists.\n",
    "\n",
    "It consists of brackets containing an expression followed by a for clause, then zero or more for or if clauses.\n"
   ]
  },
  {
   "cell_type": "code",
   "execution_count": 368,
   "metadata": {
    "ExecuteTime": {
     "end_time": "2021-05-15T13:40:51.530941Z",
     "start_time": "2021-05-15T13:40:51.517947Z"
    }
   },
   "outputs": [
    {
     "data": {
      "text/plain": [
       "['w', 'e', 'l', 'c', 'o', 'm', 'e']"
      ]
     },
     "execution_count": 368,
     "metadata": {},
     "output_type": "execute_result"
    }
   ],
   "source": [
    "mystring = \"welcome\"\n",
    "mylist = [i for i in mystring]\n",
    "mylist"
   ]
  },
  {
   "cell_type": "code",
   "execution_count": 369,
   "metadata": {
    "ExecuteTime": {
     "end_time": "2021-05-15T13:41:39.704779Z",
     "start_time": "2021-05-15T13:41:39.693809Z"
    }
   },
   "outputs": [
    {
     "data": {
      "text/plain": [
       "[0, 2, 4, 6, 8, 10, 12, 14, 16, 18, 20, 22, 24, 26, 28, 30, 32, 34, 36, 38]"
      ]
     },
     "execution_count": 369,
     "metadata": {},
     "output_type": "execute_result"
    }
   ],
   "source": [
    "mylist1 = [i for i in range(40) if i%2 ==0] # Display all even numbers between 0 - 40 using List Comprehension\n",
    "mylist1 "
   ]
  },
  {
   "cell_type": "code",
   "execution_count": 372,
   "metadata": {
    "ExecuteTime": {
     "end_time": "2021-05-15T13:46:15.027098Z",
     "start_time": "2021-05-15T13:46:15.011130Z"
    }
   },
   "outputs": [
    {
     "data": {
      "text/plain": [
       "[1, 3, 5, 7, 9, 11, 13, 15, 17, 19, 21, 23, 25, 27, 29, 31, 33, 35, 37, 39]"
      ]
     },
     "execution_count": 372,
     "metadata": {},
     "output_type": "execute_result"
    }
   ],
   "source": [
    "list2 = [i for i in range(40) if i%2==1] # Display all odd numbers between 0 - 40 using List Comprehension\n",
    "list2"
   ]
  },
  {
   "cell_type": "code",
   "execution_count": 374,
   "metadata": {
    "ExecuteTime": {
     "end_time": "2021-05-15T13:46:22.425038Z",
     "start_time": "2021-05-15T13:46:22.418057Z"
    }
   },
   "outputs": [
    {
     "data": {
      "text/plain": [
       "[0, 1, 4, 9, 16, 25, 36, 49, 64, 81]"
      ]
     },
     "execution_count": 374,
     "metadata": {},
     "output_type": "execute_result"
    }
   ],
   "source": [
    "squareofnumbers = [num**2 for num in range(10)]\n",
    "squareofnumbers"
   ]
  },
  {
   "attachments": {
    "Lcomprehension.png": {
     "image/png": "[encoded data removed]"
    }
   },
   "cell_type": "markdown",
   "metadata": {},
   "source": [
    "![Lcomprehension.png](attachment:Lcomprehension.png)"
   ]
  },
  {
   "cell_type": "code",
   "execution_count": 376,
   "metadata": {
    "ExecuteTime": {
     "end_time": "2021-05-15T14:13:23.779035Z",
     "start_time": "2021-05-15T14:13:23.759091Z"
    }
   },
   "outputs": [
    {
     "data": {
      "text/plain": [
       "[20, 30, 40, 50, 60]"
      ]
     },
     "execution_count": 376,
     "metadata": {},
     "output_type": "execute_result"
    }
   ],
   "source": [
    "# multiply whole list by 10\n",
    "list1 = [2,3,4,5,6]\n",
    "list1 = [i*10 for i in list1]\n",
    "list1"
   ]
  },
  {
   "cell_type": "code",
   "execution_count": 383,
   "metadata": {
    "ExecuteTime": {
     "end_time": "2021-05-15T14:19:34.990370Z",
     "start_time": "2021-05-15T14:19:34.978404Z"
    }
   },
   "outputs": [
    {
     "data": {
      "text/plain": [
       "[0, 36, 72, 108, 144, 180]"
      ]
     },
     "execution_count": 383,
     "metadata": {},
     "output_type": "execute_result"
    }
   ],
   "source": [
    "#List all numbers divisible by 3 , 9 & 12 using nested \"if\" with List Comprehension\n",
    "mylist4 = [i for i in range(200) if i % 3 == 0 if i % 9 == 0 if i % 12 == 0]\n",
    "mylist4"
   ]
  },
  {
   "cell_type": "code",
   "execution_count": 385,
   "metadata": {
    "ExecuteTime": {
     "end_time": "2021-05-15T14:20:09.063429Z",
     "start_time": "2021-05-15T14:20:09.056449Z"
    }
   },
   "outputs": [
    {
     "data": {
      "text/plain": [
       "[0, 15, 75]"
      ]
     },
     "execution_count": 385,
     "metadata": {},
     "output_type": "execute_result"
    }
   ],
   "source": [
    "#List all numbers divisible by 3 & 5 using nested \"if\" with List Comprehension\n",
    "list8 = [1,2,3,4,5,6,7,8,9,0,10,12,15,18,21,27,33,75]\n",
    "list8 = [i for i in list8 if i%3==0 if i%5 ==0]\n",
    "list8"
   ]
  },
  {
   "cell_type": "code",
   "execution_count": 387,
   "metadata": {
    "ExecuteTime": {
     "end_time": "2021-05-15T14:21:24.583732Z",
     "start_time": "2021-05-15T14:21:24.566779Z"
    }
   },
   "outputs": [
    {
     "name": "stdout",
     "output_type": "stream",
     "text": [
      "0 is Even Number\n",
      "1 is odd number\n",
      "2 is Even Number\n",
      "3 is odd number\n",
      "4 is Even Number\n",
      "5 is odd number\n",
      "6 is Even Number\n",
      "7 is odd number\n",
      "8 is Even Number\n",
      "9 is odd number\n"
     ]
    }
   ],
   "source": [
    "# Odd even test\n",
    "l1 = [print(f\"{i} is Even Number\") if i%2==0 else print(f\"{i} is odd number\") for i in range(10)]\n",
    "            "
   ]
  },
  {
   "cell_type": "code",
   "execution_count": 388,
   "metadata": {
    "ExecuteTime": {
     "end_time": "2021-05-15T14:23:14.125888Z",
     "start_time": "2021-05-15T14:23:14.106720Z"
    }
   },
   "outputs": [
    {
     "data": {
      "text/plain": [
       "['1', '2', '3', '4', '5', '6', '7', '8', '9']"
      ]
     },
     "execution_count": 388,
     "metadata": {},
     "output_type": "execute_result"
    }
   ],
   "source": [
    "# Extract numbers from a string\n",
    "mystr = \"One 1 two 2 three 3 four 4 five 5 six 6789\"\n",
    "numbers = [i for i in mystr if i.isdigit()]\n",
    "numbers\n"
   ]
  },
  {
   "cell_type": "code",
   "execution_count": 390,
   "metadata": {
    "ExecuteTime": {
     "end_time": "2021-05-15T14:23:46.936569Z",
     "start_time": "2021-05-15T14:23:46.915639Z"
    }
   },
   "outputs": [
    {
     "data": {
      "text/plain": [
       "['O',\n",
       " 'n',\n",
       " 'e',\n",
       " 't',\n",
       " 'w',\n",
       " 'o',\n",
       " 't',\n",
       " 'h',\n",
       " 'r',\n",
       " 'e',\n",
       " 'e',\n",
       " 'f',\n",
       " 'o',\n",
       " 'u',\n",
       " 'r',\n",
       " 'f',\n",
       " 'i',\n",
       " 'v',\n",
       " 'e',\n",
       " 's',\n",
       " 'i',\n",
       " 'x']"
      ]
     },
     "execution_count": 390,
     "metadata": {},
     "output_type": "execute_result"
    }
   ],
   "source": [
    "# Extract letters from a string\n",
    "mystr = \"One 1 two 2 three 3 four 4 five 5 six 6789\"\n",
    "letters = [i for i in mystr if i.isalpha()]\n",
    "letters\n"
   ]
  },
  {
   "cell_type": "code",
   "execution_count": 398,
   "metadata": {
    "ExecuteTime": {
     "end_time": "2021-05-15T14:27:39.841812Z",
     "start_time": "2021-05-15T14:27:39.833865Z"
    }
   },
   "outputs": [
    {
     "data": {
      "text/plain": [
       "['Extra Small', 'Small', 'Medium', 'Large', 'Extra Large']"
      ]
     },
     "execution_count": 398,
     "metadata": {},
     "output_type": "execute_result"
    }
   ],
   "source": [
    "# If else in List Comprehension\n",
    "list1 = ['XS' , 'S', 'M' , 'L' , 'XL']\n",
    "\n",
    "[\"Extra Small\" if i =='XS' else ('Small' if i =='S' else ('Medium' if i =='M' \n",
    "                                                          else ('Large' if i=='L' else 'Extra Large')))  for i in list1]"
   ]
  },
  {
   "cell_type": "markdown",
   "metadata": {},
   "source": [
    "## Dictionaries¶  \n",
    "Dictionary is a mutable data type in Python.\n",
    "\n",
    "A python dictionary is a collection of key and value pairs separated by a colon (:) & enclosed in curly braces {}.\n",
    "\n",
    "Keys must be unique in a dictionary, duplicate values are allowed.\n"
   ]
  },
  {
   "attachments": {
    "dict.png": {
     "image/png": "[encoded data removed]"
    }
   },
   "cell_type": "markdown",
   "metadata": {},
   "source": [
    "![dict.png](attachment:dict.png)"
   ]
  },
  {
   "cell_type": "markdown",
   "metadata": {},
   "source": [
    "### Create dictionary"
   ]
  },
  {
   "cell_type": "code",
   "execution_count": 401,
   "metadata": {
    "ExecuteTime": {
     "end_time": "2021-05-17T08:36:27.886012Z",
     "start_time": "2021-05-17T08:36:27.844761Z"
    }
   },
   "outputs": [
    {
     "data": {
      "text/plain": [
       "{}"
      ]
     },
     "execution_count": 401,
     "metadata": {},
     "output_type": "execute_result"
    }
   ],
   "source": [
    "mydict = dict() # empty dictionary\n",
    "mydict"
   ]
  },
  {
   "cell_type": "code",
   "execution_count": 402,
   "metadata": {
    "ExecuteTime": {
     "end_time": "2021-05-17T08:38:05.704057Z",
     "start_time": "2021-05-17T08:38:05.687982Z"
    }
   },
   "outputs": [
    {
     "data": {
      "text/plain": [
       "{}"
      ]
     },
     "execution_count": 402,
     "metadata": {},
     "output_type": "execute_result"
    }
   ],
   "source": [
    "mydict1 = {} # empty dictionary\n",
    "mydict1"
   ]
  },
  {
   "cell_type": "code",
   "execution_count": 403,
   "metadata": {
    "ExecuteTime": {
     "end_time": "2021-05-17T08:39:29.150165Z",
     "start_time": "2021-05-17T08:39:29.136961Z"
    }
   },
   "outputs": [
    {
     "data": {
      "text/plain": [
       "{1: 'one', 2: 'two', 3: 'three'}"
      ]
     },
     "execution_count": 403,
     "metadata": {},
     "output_type": "execute_result"
    }
   ],
   "source": [
    "mydict = {1:'one',2:'two',3:'three'}  # dictionary with integer keys\n",
    "mydict"
   ]
  },
  {
   "cell_type": "code",
   "execution_count": 404,
   "metadata": {
    "ExecuteTime": {
     "end_time": "2021-05-17T08:40:08.839663Z",
     "start_time": "2021-05-17T08:40:08.823835Z"
    }
   },
   "outputs": [
    {
     "data": {
      "text/plain": [
       "{1: 'one', 2: 'two', 3: 'three'}"
      ]
     },
     "execution_count": 404,
     "metadata": {},
     "output_type": "execute_result"
    }
   ],
   "source": [
    "mydict = dict({1:'one',2:'two',3:'three'}) # Create dictionary using dict()\n",
    "mydict"
   ]
  },
  {
   "cell_type": "code",
   "execution_count": 405,
   "metadata": {
    "ExecuteTime": {
     "end_time": "2021-05-17T08:40:26.228364Z",
     "start_time": "2021-05-17T08:40:26.212637Z"
    }
   },
   "outputs": [
    {
     "data": {
      "text/plain": [
       "dict_keys([1, 2, 3])"
      ]
     },
     "execution_count": 405,
     "metadata": {},
     "output_type": "execute_result"
    }
   ],
   "source": [
    "mydict.keys()# Return Dictionary Keys using keys() method"
   ]
  },
  {
   "cell_type": "code",
   "execution_count": 406,
   "metadata": {
    "ExecuteTime": {
     "end_time": "2021-05-17T08:40:39.886780Z",
     "start_time": "2021-05-17T08:40:39.879819Z"
    }
   },
   "outputs": [
    {
     "data": {
      "text/plain": [
       "dict_values(['one', 'two', 'three'])"
      ]
     },
     "execution_count": 406,
     "metadata": {},
     "output_type": "execute_result"
    }
   ],
   "source": [
    "mydict.values() # Return Dictionary Values using values() method"
   ]
  },
  {
   "cell_type": "code",
   "execution_count": 407,
   "metadata": {
    "ExecuteTime": {
     "end_time": "2021-05-17T08:40:56.430176Z",
     "start_time": "2021-05-17T08:40:56.414538Z"
    }
   },
   "outputs": [
    {
     "data": {
      "text/plain": [
       "dict_items([(1, 'one'), (2, 'two'), (3, 'three')])"
      ]
     },
     "execution_count": 407,
     "metadata": {},
     "output_type": "execute_result"
    }
   ],
   "source": [
    "mydict.items() # Access each key-value pair within a dictionary"
   ]
  },
  {
   "cell_type": "code",
   "execution_count": 410,
   "metadata": {
    "ExecuteTime": {
     "end_time": "2021-05-17T08:44:18.463194Z",
     "start_time": "2021-05-17T08:44:18.447197Z"
    }
   },
   "outputs": [
    {
     "data": {
      "text/plain": [
       "{1: 'one', 2: 'two', 'A': [1, 2, 3]}"
      ]
     },
     "execution_count": 410,
     "metadata": {},
     "output_type": "execute_result"
    }
   ],
   "source": [
    "mydict = {1:'one',2:'two','A':[1,2,3]} # dictionary with mixed keys\n",
    "mydict"
   ]
  },
  {
   "cell_type": "code",
   "execution_count": 411,
   "metadata": {
    "ExecuteTime": {
     "end_time": "2021-05-17T08:44:42.056162Z",
     "start_time": "2021-05-17T08:44:42.038951Z"
    }
   },
   "outputs": [
    {
     "data": {
      "text/plain": [
       "{1: 'one',\n",
       " 2: 'two',\n",
       " 'A': ['asif', 'john', 'Maria'],\n",
       " 'B': ('Bat', 'cat', 'hat')}"
      ]
     },
     "execution_count": 411,
     "metadata": {},
     "output_type": "execute_result"
    }
   ],
   "source": [
    "mydict = {1:'one' , 2:'two' , 'A':['asif' , 'john' , 'Maria'],  'B':('Bat' , 'cat' , 'hat')} # dictionary with mixed keys\n",
    "mydict"
   ]
  },
  {
   "cell_type": "code",
   "execution_count": 412,
   "metadata": {
    "ExecuteTime": {
     "end_time": "2021-05-17T08:45:54.632529Z",
     "start_time": "2021-05-17T08:45:54.615223Z"
    }
   },
   "outputs": [
    {
     "data": {
      "text/plain": [
       "{1: None, 2: None, 3: None, 4: None}"
      ]
     },
     "execution_count": 412,
     "metadata": {},
     "output_type": "execute_result"
    }
   ],
   "source": [
    "# Create a dictionary from a sequence of keys\n",
    "keys = [1,2,3,4]\n",
    "mydict2 = dict.fromkeys(keys)\n",
    "mydict2"
   ]
  },
  {
   "cell_type": "code",
   "execution_count": 414,
   "metadata": {
    "ExecuteTime": {
     "end_time": "2021-05-17T08:48:01.540627Z",
     "start_time": "2021-05-17T08:48:01.522657Z"
    }
   },
   "outputs": [
    {
     "data": {
      "text/plain": [
       "{'A': 10, 'B': 10, 'C': 10, 'D': 10}"
      ]
     },
     "execution_count": 414,
     "metadata": {},
     "output_type": "execute_result"
    }
   ],
   "source": [
    "# Create a dictionary from a sequence of keys with value\n",
    "keys = ['A','B','C','D']\n",
    "values = 10\n",
    "mydict3 = dict.fromkeys(keys,values)\n",
    "mydict3"
   ]
  },
  {
   "cell_type": "code",
   "execution_count": 415,
   "metadata": {
    "ExecuteTime": {
     "end_time": "2021-05-17T08:48:24.199735Z",
     "start_time": "2021-05-17T08:48:24.182869Z"
    }
   },
   "outputs": [
    {
     "data": {
      "text/plain": [
       "{'A': [10, 20, 30], 'B': [10, 20, 30], 'C': [10, 20, 30], 'D': [10, 20, 30]}"
      ]
     },
     "execution_count": 415,
     "metadata": {},
     "output_type": "execute_result"
    }
   ],
   "source": [
    "# Create a dictionary from a sequence of keys with value list\n",
    "keys = ['A','B','C','D']\n",
    "values = [10,20,30]\n",
    "mydict3 = dict.fromkeys(keys,values)\n",
    "mydict3"
   ]
  },
  {
   "cell_type": "code",
   "execution_count": 420,
   "metadata": {
    "ExecuteTime": {
     "end_time": "2021-05-17T08:50:03.536238Z",
     "start_time": "2021-05-17T08:50:03.525843Z"
    }
   },
   "outputs": [
    {
     "data": {
      "text/plain": [
       "{'A': [10, 20, 30], 'B': [10, 20, 30], 'C': [10, 20, 30], 'D': [10, 20, 30]}"
      ]
     },
     "execution_count": 420,
     "metadata": {},
     "output_type": "execute_result"
    }
   ],
   "source": [
    "# Create a dictionary from a sequence of keys with value list\n",
    "keys = ['A','B','C','D']\n",
    "value = [10,20,30]\n",
    "mydict3 = dict.fromkeys(keys,value)\n",
    "mydict3"
   ]
  },
  {
   "cell_type": "code",
   "execution_count": 421,
   "metadata": {
    "ExecuteTime": {
     "end_time": "2021-05-17T08:50:06.502001Z",
     "start_time": "2021-05-17T08:50:06.491538Z"
    }
   },
   "outputs": [
    {
     "data": {
      "text/plain": [
       "{'A': [10, 20, 30, 40],\n",
       " 'B': [10, 20, 30, 40],\n",
       " 'C': [10, 20, 30, 40],\n",
       " 'D': [10, 20, 30, 40]}"
      ]
     },
     "execution_count": 421,
     "metadata": {},
     "output_type": "execute_result"
    }
   ],
   "source": [
    "value.append(40)\n",
    "mydict3"
   ]
  },
  {
   "cell_type": "markdown",
   "metadata": {},
   "source": [
    "### Accessing Items¶\n"
   ]
  },
  {
   "cell_type": "code",
   "execution_count": 422,
   "metadata": {
    "ExecuteTime": {
     "end_time": "2021-05-17T08:55:39.702641Z",
     "start_time": "2021-05-17T08:55:39.689245Z"
    }
   },
   "outputs": [
    {
     "data": {
      "text/plain": [
       "{1: 'one', 2: 'two', 3: 'three', 4: 'four'}"
      ]
     },
     "execution_count": 422,
     "metadata": {},
     "output_type": "execute_result"
    }
   ],
   "source": [
    "mydict = {1:'one' , 2:'two' , 3:'three' , 4:'four'}\n",
    "mydict"
   ]
  },
  {
   "cell_type": "code",
   "execution_count": 424,
   "metadata": {
    "ExecuteTime": {
     "end_time": "2021-05-17T08:55:51.082407Z",
     "start_time": "2021-05-17T08:55:51.065666Z"
    }
   },
   "outputs": [
    {
     "data": {
      "text/plain": [
       "'one'"
      ]
     },
     "execution_count": 424,
     "metadata": {},
     "output_type": "execute_result"
    }
   ],
   "source": [
    "mydict[1] # Access item using key"
   ]
  },
  {
   "cell_type": "code",
   "execution_count": 425,
   "metadata": {
    "ExecuteTime": {
     "end_time": "2021-05-17T08:56:04.322875Z",
     "start_time": "2021-05-17T08:56:04.308843Z"
    }
   },
   "outputs": [
    {
     "data": {
      "text/plain": [
       "'one'"
      ]
     },
     "execution_count": 425,
     "metadata": {},
     "output_type": "execute_result"
    }
   ],
   "source": [
    "mydict.get(1) # Access item using get() method"
   ]
  },
  {
   "cell_type": "code",
   "execution_count": 426,
   "metadata": {
    "ExecuteTime": {
     "end_time": "2021-05-17T08:56:54.010993Z",
     "start_time": "2021-05-17T08:56:53.992287Z"
    }
   },
   "outputs": [
    {
     "data": {
      "text/plain": [
       "{'Name': 'Mansi', 'ID': 74123, 'DOB': 1991, 'job': 'Analyst'}"
      ]
     },
     "execution_count": 426,
     "metadata": {},
     "output_type": "execute_result"
    }
   ],
   "source": [
    "mydict1 = {'Name':'Mansi' , 'ID': 74123 , 'DOB': 1991 , 'job' :'Analyst'}\n",
    "mydict1"
   ]
  },
  {
   "cell_type": "code",
   "execution_count": 428,
   "metadata": {
    "ExecuteTime": {
     "end_time": "2021-05-17T08:57:17.665585Z",
     "start_time": "2021-05-17T08:57:17.655419Z"
    }
   },
   "outputs": [
    {
     "data": {
      "text/plain": [
       "'Mansi'"
      ]
     },
     "execution_count": 428,
     "metadata": {},
     "output_type": "execute_result"
    }
   ],
   "source": [
    "mydict1['Name']"
   ]
  },
  {
   "cell_type": "code",
   "execution_count": 430,
   "metadata": {
    "ExecuteTime": {
     "end_time": "2021-05-17T08:57:42.345919Z",
     "start_time": "2021-05-17T08:57:42.322706Z"
    }
   },
   "outputs": [
    {
     "data": {
      "text/plain": [
       "'Mansi'"
      ]
     },
     "execution_count": 430,
     "metadata": {},
     "output_type": "execute_result"
    }
   ],
   "source": [
    "mydict1.get('Name')"
   ]
  },
  {
   "cell_type": "markdown",
   "metadata": {},
   "source": [
    "### Add, Remove & Change Items¶\n"
   ]
  },
  {
   "cell_type": "code",
   "execution_count": 435,
   "metadata": {
    "ExecuteTime": {
     "end_time": "2021-05-17T09:01:47.353819Z",
     "start_time": "2021-05-17T09:01:47.338147Z"
    }
   },
   "outputs": [
    {
     "data": {
      "text/plain": [
       "{'Name': 'Mansi', 'ID': 12345, 'DOB': 1991, 'Address': 'Spain'}"
      ]
     },
     "execution_count": 435,
     "metadata": {},
     "output_type": "execute_result"
    }
   ],
   "source": [
    "mydict1 = {'Name':'Mansi' , 'ID': 12345 , 'DOB': 1991 , 'Address' : 'Spain'}\n",
    "mydict1"
   ]
  },
  {
   "cell_type": "code",
   "execution_count": 436,
   "metadata": {
    "ExecuteTime": {
     "end_time": "2021-05-17T09:01:48.196404Z",
     "start_time": "2021-05-17T09:01:48.172205Z"
    }
   },
   "outputs": [
    {
     "data": {
      "text/plain": [
       "{'Name': 'Mansi', 'ID': 12345, 'DOB': 1992, 'Address': 'India'}"
      ]
     },
     "execution_count": 436,
     "metadata": {},
     "output_type": "execute_result"
    }
   ],
   "source": [
    "# Changing Dictionary Items\n",
    "mydict1['DOB'] =1992 \n",
    "mydict1['Address'] = 'India'\n",
    "mydict1"
   ]
  },
  {
   "cell_type": "code",
   "execution_count": 438,
   "metadata": {
    "ExecuteTime": {
     "end_time": "2021-05-17T09:02:20.191555Z",
     "start_time": "2021-05-17T09:02:20.175539Z"
    }
   },
   "outputs": [
    {
     "data": {
      "text/plain": [
       "{'Name': 'Mansi', 'ID': 12345, 'DOB': 1995, 'Address': 'India'}"
      ]
     },
     "execution_count": 438,
     "metadata": {},
     "output_type": "execute_result"
    }
   ],
   "source": [
    "# update dict Items\n",
    "dict1 = {'DOB':1995}\n",
    "mydict1.update(dict1)\n",
    "mydict1"
   ]
  },
  {
   "cell_type": "code",
   "execution_count": 439,
   "metadata": {
    "ExecuteTime": {
     "end_time": "2021-05-17T09:03:43.962989Z",
     "start_time": "2021-05-17T09:03:43.945242Z"
    }
   },
   "outputs": [
    {
     "data": {
      "text/plain": [
       "{'Name': 'Mansi',\n",
       " 'ID': 12345,\n",
       " 'DOB': 1995,\n",
       " 'Address': 'India',\n",
       " 'Job': 'Data Scientist'}"
      ]
     },
     "execution_count": 439,
     "metadata": {},
     "output_type": "execute_result"
    }
   ],
   "source": [
    "# Adding items in the dictionary\n",
    "mydict1['Job'] = \"Data Scientist\"\n",
    "mydict1"
   ]
  },
  {
   "cell_type": "code",
   "execution_count": 442,
   "metadata": {
    "ExecuteTime": {
     "end_time": "2021-05-17T09:05:17.907773Z",
     "start_time": "2021-05-17T09:05:17.894508Z"
    }
   },
   "outputs": [
    {
     "data": {
      "text/plain": [
       "{'Name': 'Mansi', 'ID': 12345, 'DOB': 1995, 'Address': 'India'}"
      ]
     },
     "execution_count": 442,
     "metadata": {},
     "output_type": "execute_result"
    }
   ],
   "source": [
    "# Removing items in the dictionary using Pop method\n",
    "mydict1.pop('Job')\n",
    "mydict1"
   ]
  },
  {
   "cell_type": "code",
   "execution_count": 444,
   "metadata": {
    "ExecuteTime": {
     "end_time": "2021-05-17T09:06:00.920825Z",
     "start_time": "2021-05-17T09:06:00.908014Z"
    }
   },
   "outputs": [
    {
     "data": {
      "text/plain": [
       "('DOB', 1995)"
      ]
     },
     "execution_count": 444,
     "metadata": {},
     "output_type": "execute_result"
    }
   ],
   "source": [
    "# A random item is removed using popitem()\n",
    "mydict1.popitem()\n"
   ]
  },
  {
   "cell_type": "code",
   "execution_count": 446,
   "metadata": {
    "ExecuteTime": {
     "end_time": "2021-05-17T09:07:38.230890Z",
     "start_time": "2021-05-17T09:07:38.219126Z"
    }
   },
   "outputs": [
    {
     "data": {
      "text/plain": [
       "{'Name': 'Mansi'}"
      ]
     },
     "execution_count": 446,
     "metadata": {},
     "output_type": "execute_result"
    }
   ],
   "source": [
    "# Removing item using del method\n",
    "del[mydict1['ID']]\n",
    "mydict1"
   ]
  },
  {
   "cell_type": "code",
   "execution_count": 447,
   "metadata": {
    "ExecuteTime": {
     "end_time": "2021-05-17T09:08:23.185261Z",
     "start_time": "2021-05-17T09:08:23.169616Z"
    }
   },
   "outputs": [
    {
     "data": {
      "text/plain": [
       "{}"
      ]
     },
     "execution_count": 447,
     "metadata": {},
     "output_type": "execute_result"
    }
   ],
   "source": [
    "# Delete all items of the dictionary using clear method\n",
    "mydict1.clear()\n",
    "mydict1"
   ]
  },
  {
   "cell_type": "code",
   "execution_count": 449,
   "metadata": {
    "ExecuteTime": {
     "end_time": "2021-05-17T09:08:59.464097Z",
     "start_time": "2021-05-17T09:08:59.449216Z"
    }
   },
   "outputs": [
    {
     "ename": "NameError",
     "evalue": "name 'mydict1' is not defined",
     "output_type": "error",
     "traceback": [
      "\u001b[1;31m---------------------------------------------------------------------------\u001b[0m",
      "\u001b[1;31mNameError\u001b[0m                                 Traceback (most recent call last)",
      "\u001b[1;32m<ipython-input-449-7b931113226f>\u001b[0m in \u001b[0;36m<module>\u001b[1;34m\u001b[0m\n\u001b[0;32m      1\u001b[0m \u001b[1;31m# Delete the dictionary object\u001b[0m\u001b[1;33m\u001b[0m\u001b[1;33m\u001b[0m\u001b[1;33m\u001b[0m\u001b[0m\n\u001b[1;32m----> 2\u001b[1;33m \u001b[1;32mdel\u001b[0m \u001b[0mmydict1\u001b[0m\u001b[1;33m\u001b[0m\u001b[1;33m\u001b[0m\u001b[0m\n\u001b[0m\u001b[0;32m      3\u001b[0m \u001b[0mmydict1\u001b[0m\u001b[1;33m\u001b[0m\u001b[1;33m\u001b[0m\u001b[0m\n",
      "\u001b[1;31mNameError\u001b[0m: name 'mydict1' is not defined"
     ]
    }
   ],
   "source": [
    "# Delete the dictionary object\n",
    "del mydict1\n",
    "mydict1"
   ]
  },
  {
   "cell_type": "markdown",
   "metadata": {},
   "source": [
    "### Copy Dictionary"
   ]
  },
  {
   "cell_type": "code",
   "execution_count": 456,
   "metadata": {
    "ExecuteTime": {
     "end_time": "2021-05-17T09:33:54.121211Z",
     "start_time": "2021-05-17T09:33:54.105371Z"
    }
   },
   "outputs": [
    {
     "data": {
      "text/plain": [
       "{'Name': 'Mansi', 'ID': 12345, 'DOB': 1991, 'Address': 'Mumbai'}"
      ]
     },
     "execution_count": 456,
     "metadata": {},
     "output_type": "execute_result"
    }
   ],
   "source": [
    "mydict = {'Name':'Mansi' , 'ID': 12345 , 'DOB': 1991 , 'Address' : 'Mumbai'}\n",
    "mydict"
   ]
  },
  {
   "cell_type": "code",
   "execution_count": 457,
   "metadata": {
    "ExecuteTime": {
     "end_time": "2021-05-17T09:33:54.919670Z",
     "start_time": "2021-05-17T09:33:54.911622Z"
    }
   },
   "outputs": [],
   "source": [
    "mydict1 = mydict # Create a new reference \"mydict1\"\n",
    "mydict2 = mydict.copy() # Create a copy of the dictionary\n"
   ]
  },
  {
   "cell_type": "code",
   "execution_count": 458,
   "metadata": {
    "ExecuteTime": {
     "end_time": "2021-05-17T09:33:55.783401Z",
     "start_time": "2021-05-17T09:33:55.775340Z"
    }
   },
   "outputs": [
    {
     "data": {
      "text/plain": [
       "(2974494994744, 2974494994744, 2974473187144)"
      ]
     },
     "execution_count": 458,
     "metadata": {},
     "output_type": "execute_result"
    }
   ],
   "source": [
    "id(mydict1),id(mydict),id(mydict2) # id of all three"
   ]
  },
  {
   "cell_type": "code",
   "execution_count": 459,
   "metadata": {
    "ExecuteTime": {
     "end_time": "2021-05-17T09:35:06.386371Z",
     "start_time": "2021-05-17T09:35:06.367784Z"
    }
   },
   "outputs": [
    {
     "data": {
      "text/plain": [
       "{'Name': 'Mansi',\n",
       " 'ID': 12345,\n",
       " 'DOB': 1991,\n",
       " 'Address': 'Mumbai',\n",
       " 'Job': 'Analyst'}"
      ]
     },
     "execution_count": 459,
     "metadata": {},
     "output_type": "execute_result"
    }
   ],
   "source": [
    "mydict[\"Job\"] = 'Analyst' # adding new key-value pair in mydict\n",
    "mydict"
   ]
  },
  {
   "cell_type": "code",
   "execution_count": 460,
   "metadata": {
    "ExecuteTime": {
     "end_time": "2021-05-17T09:35:19.030702Z",
     "start_time": "2021-05-17T09:35:19.022677Z"
    }
   },
   "outputs": [
    {
     "data": {
      "text/plain": [
       "{'Name': 'Mansi',\n",
       " 'ID': 12345,\n",
       " 'DOB': 1991,\n",
       " 'Address': 'Mumbai',\n",
       " 'Job': 'Analyst'}"
      ]
     },
     "execution_count": 460,
     "metadata": {},
     "output_type": "execute_result"
    }
   ],
   "source": [
    "mydict1 # mydict1 will be also impacted as it is pointing to the same dictionary"
   ]
  },
  {
   "cell_type": "code",
   "execution_count": 462,
   "metadata": {
    "ExecuteTime": {
     "end_time": "2021-05-17T09:35:56.302820Z",
     "start_time": "2021-05-17T09:35:56.294597Z"
    }
   },
   "outputs": [
    {
     "data": {
      "text/plain": [
       "{'Name': 'Mansi', 'ID': 12345, 'DOB': 1991, 'Address': 'Mumbai'}"
      ]
     },
     "execution_count": 462,
     "metadata": {},
     "output_type": "execute_result"
    }
   ],
   "source": [
    "mydict2 # Copy of list won't be impacted due to the changes made in the original dictionary"
   ]
  },
  {
   "cell_type": "markdown",
   "metadata": {},
   "source": [
    "### Loop through a Dictionary¶\n"
   ]
  },
  {
   "cell_type": "code",
   "execution_count": 463,
   "metadata": {
    "ExecuteTime": {
     "end_time": "2021-05-17T09:37:59.135904Z",
     "start_time": "2021-05-17T09:37:59.122307Z"
    }
   },
   "outputs": [
    {
     "data": {
      "text/plain": [
       "{'Name': 'Mansi', 'ID': 12345, 'DOB': 1991, 'Address': 'Mumbai'}"
      ]
     },
     "execution_count": 463,
     "metadata": {},
     "output_type": "execute_result"
    }
   ],
   "source": [
    "mydict = {'Name':'Mansi' , 'ID': 12345 , 'DOB': 1991 , 'Address' : 'Mumbai'}\n",
    "mydict"
   ]
  },
  {
   "cell_type": "code",
   "execution_count": 466,
   "metadata": {
    "ExecuteTime": {
     "end_time": "2021-05-17T09:39:44.472935Z",
     "start_time": "2021-05-17T09:39:44.445067Z"
    }
   },
   "outputs": [
    {
     "name": "stdout",
     "output_type": "stream",
     "text": [
      "Name : Mansi\n",
      "ID : 12345\n",
      "DOB : 1991\n",
      "Address : Mumbai\n"
     ]
    }
   ],
   "source": [
    "for i in mydict:\n",
    "    print(i, ':',mydict.get(i)) # Key & value pair"
   ]
  },
  {
   "cell_type": "code",
   "execution_count": 467,
   "metadata": {
    "ExecuteTime": {
     "end_time": "2021-05-17T09:40:06.992206Z",
     "start_time": "2021-05-17T09:40:06.978521Z"
    }
   },
   "outputs": [
    {
     "name": "stdout",
     "output_type": "stream",
     "text": [
      "Mansi\n",
      "12345\n",
      "1991\n",
      "Mumbai\n"
     ]
    }
   ],
   "source": [
    "for i in mydict:\n",
    "    print(mydict[i]) # Dictionary items"
   ]
  },
  {
   "cell_type": "markdown",
   "metadata": {},
   "source": [
    "### Dictionary Membership¶\n",
    "\n",
    "Membership test can be only done for keys.\n"
   ]
  },
  {
   "cell_type": "code",
   "execution_count": 468,
   "metadata": {
    "ExecuteTime": {
     "end_time": "2021-05-17T09:41:04.026141Z",
     "start_time": "2021-05-17T09:41:04.002694Z"
    }
   },
   "outputs": [
    {
     "data": {
      "text/plain": [
       "{'Name': 'Mansi', 'ID': 12345, 'DOB': 1991, 'Address': 'Mumbai'}"
      ]
     },
     "execution_count": 468,
     "metadata": {},
     "output_type": "execute_result"
    }
   ],
   "source": [
    "mydict = {'Name':'Mansi' , 'ID': 12345 , 'DOB': 1991 , 'Address' : 'Mumbai'}\n",
    "mydict"
   ]
  },
  {
   "cell_type": "code",
   "execution_count": 469,
   "metadata": {
    "ExecuteTime": {
     "end_time": "2021-05-17T09:41:27.478762Z",
     "start_time": "2021-05-17T09:41:27.464202Z"
    }
   },
   "outputs": [
    {
     "data": {
      "text/plain": [
       "True"
      ]
     },
     "execution_count": 469,
     "metadata": {},
     "output_type": "execute_result"
    }
   ],
   "source": [
    "'Name' in mydict # Test if a key is in a dictionary or not."
   ]
  },
  {
   "cell_type": "code",
   "execution_count": 470,
   "metadata": {
    "ExecuteTime": {
     "end_time": "2021-05-17T09:41:59.684517Z",
     "start_time": "2021-05-17T09:41:59.659710Z"
    }
   },
   "outputs": [
    {
     "data": {
      "text/plain": [
       "False"
      ]
     },
     "execution_count": 470,
     "metadata": {},
     "output_type": "execute_result"
    }
   ],
   "source": [
    "'Mansi' in mydict # Membership test can be only done for keys."
   ]
  },
  {
   "cell_type": "code",
   "execution_count": 474,
   "metadata": {
    "ExecuteTime": {
     "end_time": "2021-05-17T09:43:07.940481Z",
     "start_time": "2021-05-17T09:43:07.921514Z"
    }
   },
   "outputs": [
    {
     "data": {
      "text/plain": [
       "True"
      ]
     },
     "execution_count": 474,
     "metadata": {},
     "output_type": "execute_result"
    }
   ],
   "source": [
    "'ID' in mydict\n"
   ]
  },
  {
   "cell_type": "code",
   "execution_count": 475,
   "metadata": {
    "ExecuteTime": {
     "end_time": "2021-05-17T09:43:11.959080Z",
     "start_time": "2021-05-17T09:43:11.934120Z"
    }
   },
   "outputs": [
    {
     "data": {
      "text/plain": [
       "False"
      ]
     },
     "execution_count": 475,
     "metadata": {},
     "output_type": "execute_result"
    }
   ],
   "source": [
    "'Salary' in mydict\n"
   ]
  },
  {
   "cell_type": "markdown",
   "metadata": {},
   "source": [
    "### All / Any\n",
    "The all() method returns:\n",
    "\n",
    "True - If all all keys of the dictionary are true\n",
    "\n",
    "False - If any key of the dictionary is false\n",
    "\n",
    "The any() function returns True if any key of the dictionary is True. If not, any() returns False."
   ]
  },
  {
   "cell_type": "code",
   "execution_count": 476,
   "metadata": {
    "ExecuteTime": {
     "end_time": "2021-05-17T09:44:56.281534Z",
     "start_time": "2021-05-17T09:44:56.258891Z"
    }
   },
   "outputs": [
    {
     "data": {
      "text/plain": [
       "{'Name': 'Mansi', 'ID': 12345, 'DOB': 1991, 'Address': 'Mumbai'}"
      ]
     },
     "execution_count": 476,
     "metadata": {},
     "output_type": "execute_result"
    }
   ],
   "source": [
    "    mydict = {'Name':'Mansi' , 'ID': 12345 , 'DOB': 1991 , 'Address' : 'Mumbai'}\n",
    "    mydict"
   ]
  },
  {
   "cell_type": "code",
   "execution_count": 477,
   "metadata": {
    "ExecuteTime": {
     "end_time": "2021-05-17T09:45:29.108415Z",
     "start_time": "2021-05-17T09:45:29.093648Z"
    }
   },
   "outputs": [
    {
     "data": {
      "text/plain": [
       "True"
      ]
     },
     "execution_count": 477,
     "metadata": {},
     "output_type": "execute_result"
    }
   ],
   "source": [
    "all(mydict)"
   ]
  },
  {
   "cell_type": "code",
   "execution_count": 478,
   "metadata": {
    "ExecuteTime": {
     "end_time": "2021-05-17T09:45:38.476115Z",
     "start_time": "2021-05-17T09:45:38.454675Z"
    }
   },
   "outputs": [
    {
     "data": {
      "text/plain": [
       "True"
      ]
     },
     "execution_count": 478,
     "metadata": {},
     "output_type": "execute_result"
    }
   ],
   "source": [
    "any(mydict)"
   ]
  },
  {
   "cell_type": "code",
   "execution_count": 498,
   "metadata": {
    "ExecuteTime": {
     "end_time": "2021-05-17T09:49:24.916514Z",
     "start_time": "2021-05-17T09:49:24.905929Z"
    }
   },
   "outputs": [
    {
     "data": {
      "text/plain": [
       "{'Name': 'Mansi', 'ID': 12345, 'DOB': 1991, 0: 0}"
      ]
     },
     "execution_count": 498,
     "metadata": {},
     "output_type": "execute_result"
    }
   ],
   "source": [
    "mydict1 = {'Name':'Mansi' , 'ID': 12345 , 'DOB': 1991 ,0:0}\n",
    "mydict1"
   ]
  },
  {
   "cell_type": "code",
   "execution_count": 505,
   "metadata": {
    "ExecuteTime": {
     "end_time": "2021-05-17T09:53:19.552888Z",
     "start_time": "2021-05-17T09:53:19.540165Z"
    }
   },
   "outputs": [
    {
     "data": {
      "text/plain": [
       "True"
      ]
     },
     "execution_count": 505,
     "metadata": {},
     "output_type": "execute_result"
    }
   ],
   "source": [
    "any(mydict1) # Will Return True as we have items in the dictionary with True value"
   ]
  },
  {
   "cell_type": "code",
   "execution_count": 497,
   "metadata": {
    "ExecuteTime": {
     "end_time": "2021-05-17T09:49:09.403362Z",
     "start_time": "2021-05-17T09:49:09.394590Z"
    }
   },
   "outputs": [
    {
     "data": {
      "text/plain": [
       "False"
      ]
     },
     "execution_count": 497,
     "metadata": {},
     "output_type": "execute_result"
    }
   ],
   "source": [
    "all(mydict1) # Will Return false as one value is false (Value 0)"
   ]
  },
  {
   "cell_type": "markdown",
   "metadata": {},
   "source": [
    "### Dictionary Comprehension¶\n"
   ]
  },
  {
   "cell_type": "code",
   "execution_count": 513,
   "metadata": {
    "ExecuteTime": {
     "end_time": "2021-05-17T09:59:54.052037Z",
     "start_time": "2021-05-17T09:59:54.036262Z"
    }
   },
   "outputs": [
    {
     "data": {
      "text/plain": [
       "{'Name': 'Name', 'ID': 'ID', 'DOB': 'DOB', 0: 0}"
      ]
     },
     "execution_count": 513,
     "metadata": {},
     "output_type": "execute_result"
    }
   ],
   "source": [
    "#double each value using dict comprehension\n",
    "\n",
    "mydict = {'Name':'Mansi' , 'ID': 12345 , 'DOB': 1991 ,0:0}\n",
    "dictop = {i:i for i in mydict}\n",
    "dictop\n"
   ]
  },
  {
   "cell_type": "code",
   "execution_count": 511,
   "metadata": {
    "ExecuteTime": {
     "end_time": "2021-05-17T09:59:24.462966Z",
     "start_time": "2021-05-17T09:59:24.450145Z"
    }
   },
   "outputs": [
    {
     "data": {
      "text/plain": [
       "{0: 0, 1: 1, 2: 2, 3: 3, 4: 4, 5: 5, 6: 6, 7: 7, 8: 8, 9: 9}"
      ]
     },
     "execution_count": 511,
     "metadata": {},
     "output_type": "execute_result"
    }
   ],
   "source": [
    "mydict = {i:i for i in range(10)}\n",
    "mydict"
   ]
  },
  {
   "cell_type": "code",
   "execution_count": 509,
   "metadata": {
    "ExecuteTime": {
     "end_time": "2021-05-17T09:58:45.914431Z",
     "start_time": "2021-05-17T09:58:45.896222Z"
    }
   },
   "outputs": [
    {
     "data": {
      "text/plain": [
       "{0: 0, 1: 2, 2: 4, 3: 6, 4: 8, 5: 10, 6: 12, 7: 14, 8: 16, 9: 18}"
      ]
     },
     "execution_count": 509,
     "metadata": {},
     "output_type": "execute_result"
    }
   ],
   "source": [
    "double = {i:i*2 for i in range(10)} #double each value using dict comprehension\n",
    "double"
   ]
  },
  {
   "attachments": {
    "Dcomprehension.png": {
     "image/png": "[encoded data removed]"
    }
   },
   "cell_type": "markdown",
   "metadata": {},
   "source": [
    "![Dcomprehension.png](attachment:Dcomprehension.png)"
   ]
  },
  {
   "cell_type": "code",
   "execution_count": 519,
   "metadata": {
    "ExecuteTime": {
     "end_time": "2021-05-17T10:15:16.353670Z",
     "start_time": "2021-05-17T10:15:16.342666Z"
    }
   },
   "outputs": [
    {
     "data": {
      "text/plain": [
       "{1: 'one', 2: 2, 3: 'Three', 4: 0}"
      ]
     },
     "execution_count": 519,
     "metadata": {},
     "output_type": "execute_result"
    }
   ],
   "source": [
    "key = [1,2,3,4]\n",
    "value = [\"one\",2,'Three',0]\n",
    "\n",
    "dict2 = {k:v for (k,v) in zip(key,value)} # using dict comprehension to create dictionary\n",
    "dict2"
   ]
  },
  {
   "cell_type": "code",
   "execution_count": 520,
   "metadata": {
    "ExecuteTime": {
     "end_time": "2021-05-17T10:15:37.177387Z",
     "start_time": "2021-05-17T10:15:37.163095Z"
    }
   },
   "outputs": [
    {
     "data": {
      "text/plain": [
       "{1: 'one', 2: 2, 3: 'Three'}"
      ]
     },
     "execution_count": 520,
     "metadata": {},
     "output_type": "execute_result"
    }
   ],
   "source": [
    "key = [1,2,3,4]\n",
    "value = [\"one\",2,'Three']  # only three values\n",
    "\n",
    "dict2 = {k:v for (k,v) in zip(key,value)}\n",
    "dict2"
   ]
  },
  {
   "cell_type": "code",
   "execution_count": 521,
   "metadata": {
    "ExecuteTime": {
     "end_time": "2021-05-17T10:15:59.742550Z",
     "start_time": "2021-05-17T10:15:59.720860Z"
    }
   },
   "outputs": [
    {
     "data": {
      "text/plain": [
       "{1: 'one', 2: 2, 3: 'Three'}"
      ]
     },
     "execution_count": 521,
     "metadata": {},
     "output_type": "execute_result"
    }
   ],
   "source": [
    "key = [1,2,3]  # only three keys\n",
    "value = [\"one\",2,'Three',0]\n",
    "\n",
    "dict2 = {k:v for (k,v) in zip(key,value)}\n",
    "dict2"
   ]
  },
  {
   "cell_type": "code",
   "execution_count": 526,
   "metadata": {
    "ExecuteTime": {
     "end_time": "2021-05-17T10:21:40.142329Z",
     "start_time": "2021-05-17T10:21:40.134032Z"
    }
   },
   "outputs": [
    {
     "data": {
      "text/plain": [
       "{1: 1.0, 2: 2.0, 3: 3.0}"
      ]
     },
     "execution_count": 526,
     "metadata": {},
     "output_type": "execute_result"
    }
   ],
   "source": [
    "# using dict.items() comprehension to create dictionary manipulation\n",
    "# Divide all values in a dictionary by 10\n",
    "\n",
    "mydict = {1:10,2:20,3:30}\n",
    "mydict = {K:V/10 for (K,V) in mydict.items()}\n",
    "mydict\n"
   ]
  },
  {
   "cell_type": "code",
   "execution_count": 531,
   "metadata": {
    "ExecuteTime": {
     "end_time": "2021-05-17T10:30:07.932656Z",
     "start_time": "2021-05-17T10:30:07.918696Z"
    }
   },
   "outputs": [
    {
     "data": {
      "text/plain": [
       "{0: 'N',\n",
       " 1: 'a',\n",
       " 2: 't',\n",
       " 3: 'u',\n",
       " 4: 'r',\n",
       " 5: 'a',\n",
       " 6: 'l',\n",
       " 7: ' ',\n",
       " 8: 'l',\n",
       " 9: 'a',\n",
       " 10: 'n',\n",
       " 11: 'g',\n",
       " 12: 'u',\n",
       " 13: 'a',\n",
       " 14: 'g',\n",
       " 15: 'e',\n",
       " 16: ' ',\n",
       " 17: 'p',\n",
       " 18: 'r',\n",
       " 19: 'o',\n",
       " 20: 'c',\n",
       " 21: 'e',\n",
       " 22: 's',\n",
       " 23: 's',\n",
       " 24: 'i',\n",
       " 25: 'n',\n",
       " 26: 'g'}"
      ]
     },
     "execution_count": 531,
     "metadata": {},
     "output_type": "execute_result"
    }
   ],
   "source": [
    "str1 = \"Natural language processing\"\n",
    "\n",
    "mydict3 = {k:v for (k,v) in enumerate(str1)}\n",
    "mydict3"
   ]
  },
  {
   "cell_type": "code",
   "execution_count": 540,
   "metadata": {
    "ExecuteTime": {
     "end_time": "2021-05-17T10:32:35.157860Z",
     "start_time": "2021-05-17T10:32:35.138963Z"
    }
   },
   "outputs": [
    {
     "data": {
      "text/plain": [
       "{'a': 'A', 'b': 'B', 'C': 'C', 'd': 'D'}"
      ]
     },
     "execution_count": 540,
     "metadata": {},
     "output_type": "execute_result"
    }
   ],
   "source": [
    "# lower to upper\n",
    "\n",
    "str2 = \"abCd\"\n",
    "mydict_l_u = {i:i.upper() for i in str2}\n",
    "mydict_l_u"
   ]
  },
  {
   "cell_type": "markdown",
   "metadata": {},
   "source": [
    "### Word Frequency using dictionary¶\n"
   ]
  },
  {
   "cell_type": "code",
   "execution_count": 541,
   "metadata": {
    "ExecuteTime": {
     "end_time": "2021-05-17T10:33:58.909626Z",
     "start_time": "2021-05-17T10:33:58.900653Z"
    }
   },
   "outputs": [],
   "source": [
    "mystr4 = \"one two three four one two two three five five six seven six seven one one one ten eight ten nine eleven ten ten nine\"\n"
   ]
  },
  {
   "cell_type": "code",
   "execution_count": 542,
   "metadata": {
    "ExecuteTime": {
     "end_time": "2021-05-17T10:34:41.571611Z",
     "start_time": "2021-05-17T10:34:41.553660Z"
    }
   },
   "outputs": [
    {
     "data": {
      "text/plain": [
       "['one',\n",
       " 'two',\n",
       " 'three',\n",
       " 'four',\n",
       " 'one',\n",
       " 'two',\n",
       " 'two',\n",
       " 'three',\n",
       " 'five',\n",
       " 'five',\n",
       " 'six',\n",
       " 'seven',\n",
       " 'six',\n",
       " 'seven',\n",
       " 'one',\n",
       " 'one',\n",
       " 'one',\n",
       " 'ten',\n",
       " 'eight',\n",
       " 'ten',\n",
       " 'nine',\n",
       " 'eleven',\n",
       " 'ten',\n",
       " 'ten',\n",
       " 'nine']"
      ]
     },
     "execution_count": 542,
     "metadata": {},
     "output_type": "execute_result"
    }
   ],
   "source": [
    "mylist = mystr4.split() # Split String into substrings\n",
    "mylist"
   ]
  },
  {
   "cell_type": "code",
   "execution_count": 547,
   "metadata": {
    "ExecuteTime": {
     "end_time": "2021-05-17T10:36:44.204670Z",
     "start_time": "2021-05-17T10:36:44.194725Z"
    }
   },
   "outputs": [
    {
     "data": {
      "text/plain": [
       "['four',\n",
       " 'ten',\n",
       " 'eleven',\n",
       " 'six',\n",
       " 'one',\n",
       " 'nine',\n",
       " 'three',\n",
       " 'five',\n",
       " 'seven',\n",
       " 'eight',\n",
       " 'two']"
      ]
     },
     "execution_count": 547,
     "metadata": {},
     "output_type": "execute_result"
    }
   ],
   "source": [
    "# Unique values in a list\n",
    "list(set(mylist))\n",
    "                    # OR\n",
    "    \n",
    "mylist1 = set(mylist) \n",
    "mylist1 = list (mylist1)\n",
    "mylist1"
   ]
  },
  {
   "cell_type": "code",
   "execution_count": 548,
   "metadata": {
    "ExecuteTime": {
     "end_time": "2021-05-17T10:37:03.031434Z",
     "start_time": "2021-05-17T10:37:03.026451Z"
    }
   },
   "outputs": [],
   "source": [
    "# Calculate frequency of each word\n"
   ]
  },
  {
   "cell_type": "code",
   "execution_count": null,
   "metadata": {},
   "outputs": [],
   "source": []
  }
 ],
 "metadata": {
  "kernelspec": {
   "display_name": "Python 3",
   "language": "python",
   "name": "python3"
  },
  "language_info": {
   "codemirror_mode": {
    "name": "ipython",
    "version": 3
   },
   "file_extension": ".py",
   "mimetype": "text/x-python",
   "name": "python",
   "nbconvert_exporter": "python",
   "pygments_lexer": "ipython3",
   "version": "3.7.6"
  }
 },
 "nbformat": 4,
 "nbformat_minor": 4
}
